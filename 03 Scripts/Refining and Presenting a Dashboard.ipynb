{
 "cells": [
  {
   "cell_type": "markdown",
   "id": "1725e656-4e9b-4af3-945e-8827126ce64e",
   "metadata": {},
   "source": [
    "# Table of Contents\n",
    "\n",
    "## 01. Library and Data Import\n",
    "## 02. Top 20 stations bar chart\n",
    "## 03. Creating a random sample of `df`"
   ]
  },
  {
   "cell_type": "markdown",
   "id": "b7fbe04e-daf9-4afd-8c23-7d68b2f5b893",
   "metadata": {},
   "source": [
    "### 01. Library and Data Import"
   ]
  },
  {
   "cell_type": "code",
   "execution_count": 1,
   "id": "6d5f4584-d5ae-4f11-beb5-437ee1321bf3",
   "metadata": {},
   "outputs": [],
   "source": [
    "# Streamlit: Main framework for creating interactive dashboards\n",
    "import streamlit as st\n",
    "\n",
    "# Data Handling: Pandas for data manipulation, NumPy for numerical operations\n",
    "import pandas as pd\n",
    "import numpy as np\n",
    "\n",
    "# Plotly for Interactive Visualizations\n",
    "import plotly.express as px  # High-level interface for Plotly visualizations\n",
    "from plotly.subplots import make_subplots  # Allows creating subplots\n",
    "import plotly.graph_objects as go  # Low-level interface for detailed chart customization\n",
    "\n",
    "# Matplotlib for Static Visualizations\n",
    "import matplotlib.pyplot as plt  # Used for additional plotting functionalities\n",
    "\n",
    "# Date and Time Handling\n",
    "from datetime import datetime as dt  # Helps with date and time manipulations\n",
    "\n",
    "# Kepler.gl for Interactive Geospatial Mapping in Streamlit\n",
    "from streamlit_keplergl import keplergl_static  # Allows embedding Kepler.gl maps in Streamlit"
   ]
  },
  {
   "cell_type": "code",
   "execution_count": 2,
   "id": "6b85522f-0ce8-40a1-9edb-d73ff7d77a7f",
   "metadata": {},
   "outputs": [
    {
     "data": {
      "text/html": [
       "<div>\n",
       "<style scoped>\n",
       "    .dataframe tbody tr th:only-of-type {\n",
       "        vertical-align: middle;\n",
       "    }\n",
       "\n",
       "    .dataframe tbody tr th {\n",
       "        vertical-align: top;\n",
       "    }\n",
       "\n",
       "    .dataframe thead th {\n",
       "        text-align: right;\n",
       "    }\n",
       "</style>\n",
       "<table border=\"1\" class=\"dataframe\">\n",
       "  <thead>\n",
       "    <tr style=\"text-align: right;\">\n",
       "      <th></th>\n",
       "      <th>ride_id</th>\n",
       "      <th>rideable_type</th>\n",
       "      <th>started_at</th>\n",
       "      <th>ended_at</th>\n",
       "      <th>start_station_name</th>\n",
       "      <th>start_station_id</th>\n",
       "      <th>end_station_name</th>\n",
       "      <th>end_station_id</th>\n",
       "      <th>start_lat</th>\n",
       "      <th>start_lng</th>\n",
       "      <th>end_lat</th>\n",
       "      <th>end_lng</th>\n",
       "      <th>member_casual</th>\n",
       "      <th>avgTemp</th>\n",
       "      <th>bike_rides_daily</th>\n",
       "      <th>trip_duration</th>\n",
       "    </tr>\n",
       "    <tr>\n",
       "      <th>date</th>\n",
       "      <th></th>\n",
       "      <th></th>\n",
       "      <th></th>\n",
       "      <th></th>\n",
       "      <th></th>\n",
       "      <th></th>\n",
       "      <th></th>\n",
       "      <th></th>\n",
       "      <th></th>\n",
       "      <th></th>\n",
       "      <th></th>\n",
       "      <th></th>\n",
       "      <th></th>\n",
       "      <th></th>\n",
       "      <th></th>\n",
       "      <th></th>\n",
       "    </tr>\n",
       "  </thead>\n",
       "  <tbody>\n",
       "    <tr>\n",
       "      <th>2022-01-01</th>\n",
       "      <td>88237B34DAFDB069</td>\n",
       "      <td>electric_bike</td>\n",
       "      <td>2022-01-01 00:00:13.532</td>\n",
       "      <td>2022-01-01 00:30:28.482</td>\n",
       "      <td>Broadway &amp; W 160 St</td>\n",
       "      <td>8157.06</td>\n",
       "      <td>Broadway &amp; W 160 St</td>\n",
       "      <td>8157.06</td>\n",
       "      <td>40.835773</td>\n",
       "      <td>-73.943398</td>\n",
       "      <td>40.835773</td>\n",
       "      <td>-73.943398</td>\n",
       "      <td>casual</td>\n",
       "      <td>11.6</td>\n",
       "      <td>20198</td>\n",
       "      <td>30.249167</td>\n",
       "    </tr>\n",
       "    <tr>\n",
       "      <th>2022-01-01</th>\n",
       "      <td>4545E384F601A7E9</td>\n",
       "      <td>classic_bike</td>\n",
       "      <td>2022-01-01 00:00:32.146</td>\n",
       "      <td>2022-01-01 00:02:15.504</td>\n",
       "      <td>Forsyth St &amp; Broome St</td>\n",
       "      <td>5453.05</td>\n",
       "      <td>Forsyth St &amp; Broome St</td>\n",
       "      <td>5453.05</td>\n",
       "      <td>40.718941</td>\n",
       "      <td>-73.992661</td>\n",
       "      <td>40.718941</td>\n",
       "      <td>-73.992661</td>\n",
       "      <td>member</td>\n",
       "      <td>11.6</td>\n",
       "      <td>20198</td>\n",
       "      <td>1.722633</td>\n",
       "    </tr>\n",
       "    <tr>\n",
       "      <th>2022-01-01</th>\n",
       "      <td>7CE9B56332A37463</td>\n",
       "      <td>electric_bike</td>\n",
       "      <td>2022-01-01 00:00:42.801</td>\n",
       "      <td>2022-01-01 00:11:38.969</td>\n",
       "      <td>Myrtle Ave &amp; Marcy Ave</td>\n",
       "      <td>4707.03</td>\n",
       "      <td>Willoughby St &amp; Fleet St</td>\n",
       "      <td>4628.05</td>\n",
       "      <td>40.695396</td>\n",
       "      <td>-73.949547</td>\n",
       "      <td>40.691967</td>\n",
       "      <td>-73.981300</td>\n",
       "      <td>member</td>\n",
       "      <td>11.6</td>\n",
       "      <td>20198</td>\n",
       "      <td>10.936133</td>\n",
       "    </tr>\n",
       "    <tr>\n",
       "      <th>2022-01-01</th>\n",
       "      <td>AEAF2FFEBB00845B</td>\n",
       "      <td>electric_bike</td>\n",
       "      <td>2022-01-01 00:00:50.604</td>\n",
       "      <td>2022-01-01 02:39:37.688</td>\n",
       "      <td>W 15 St &amp; 7 Ave</td>\n",
       "      <td>6030.06</td>\n",
       "      <td>W 33 St &amp; 7 Ave</td>\n",
       "      <td>6407.07</td>\n",
       "      <td>40.739357</td>\n",
       "      <td>-73.999321</td>\n",
       "      <td>40.750198</td>\n",
       "      <td>-73.990929</td>\n",
       "      <td>casual</td>\n",
       "      <td>11.6</td>\n",
       "      <td>20198</td>\n",
       "      <td>158.784733</td>\n",
       "    </tr>\n",
       "    <tr>\n",
       "      <th>2022-01-01</th>\n",
       "      <td>9B01074C8CABA851</td>\n",
       "      <td>classic_bike</td>\n",
       "      <td>2022-01-01 00:01:05.031</td>\n",
       "      <td>2022-01-01 00:11:53.032</td>\n",
       "      <td>W 15 St &amp; 7 Ave</td>\n",
       "      <td>6030.06</td>\n",
       "      <td>W 36 St &amp; 7 Ave</td>\n",
       "      <td>6483.06</td>\n",
       "      <td>40.739357</td>\n",
       "      <td>-73.999321</td>\n",
       "      <td>40.752148</td>\n",
       "      <td>-73.989540</td>\n",
       "      <td>member</td>\n",
       "      <td>11.6</td>\n",
       "      <td>20198</td>\n",
       "      <td>10.800017</td>\n",
       "    </tr>\n",
       "  </tbody>\n",
       "</table>\n",
       "</div>"
      ],
      "text/plain": [
       "                     ride_id  rideable_type              started_at  \\\n",
       "date                                                                  \n",
       "2022-01-01  88237B34DAFDB069  electric_bike 2022-01-01 00:00:13.532   \n",
       "2022-01-01  4545E384F601A7E9   classic_bike 2022-01-01 00:00:32.146   \n",
       "2022-01-01  7CE9B56332A37463  electric_bike 2022-01-01 00:00:42.801   \n",
       "2022-01-01  AEAF2FFEBB00845B  electric_bike 2022-01-01 00:00:50.604   \n",
       "2022-01-01  9B01074C8CABA851   classic_bike 2022-01-01 00:01:05.031   \n",
       "\n",
       "                          ended_at      start_station_name start_station_id  \\\n",
       "date                                                                          \n",
       "2022-01-01 2022-01-01 00:30:28.482     Broadway & W 160 St          8157.06   \n",
       "2022-01-01 2022-01-01 00:02:15.504  Forsyth St & Broome St          5453.05   \n",
       "2022-01-01 2022-01-01 00:11:38.969  Myrtle Ave & Marcy Ave          4707.03   \n",
       "2022-01-01 2022-01-01 02:39:37.688         W 15 St & 7 Ave          6030.06   \n",
       "2022-01-01 2022-01-01 00:11:53.032         W 15 St & 7 Ave          6030.06   \n",
       "\n",
       "                    end_station_name end_station_id  start_lat  start_lng  \\\n",
       "date                                                                        \n",
       "2022-01-01       Broadway & W 160 St        8157.06  40.835773 -73.943398   \n",
       "2022-01-01    Forsyth St & Broome St        5453.05  40.718941 -73.992661   \n",
       "2022-01-01  Willoughby St & Fleet St        4628.05  40.695396 -73.949547   \n",
       "2022-01-01           W 33 St & 7 Ave        6407.07  40.739357 -73.999321   \n",
       "2022-01-01           W 36 St & 7 Ave        6483.06  40.739357 -73.999321   \n",
       "\n",
       "              end_lat    end_lng member_casual  avgTemp  bike_rides_daily  \\\n",
       "date                                                                        \n",
       "2022-01-01  40.835773 -73.943398        casual     11.6             20198   \n",
       "2022-01-01  40.718941 -73.992661        member     11.6             20198   \n",
       "2022-01-01  40.691967 -73.981300        member     11.6             20198   \n",
       "2022-01-01  40.750198 -73.990929        casual     11.6             20198   \n",
       "2022-01-01  40.752148 -73.989540        member     11.6             20198   \n",
       "\n",
       "            trip_duration  \n",
       "date                       \n",
       "2022-01-01      30.249167  \n",
       "2022-01-01       1.722633  \n",
       "2022-01-01      10.936133  \n",
       "2022-01-01     158.784733  \n",
       "2022-01-01      10.800017  "
      ]
     },
     "execution_count": 2,
     "metadata": {},
     "output_type": "execute_result"
    }
   ],
   "source": [
    "# Define the file path for the 'newyork_data_cleaned_v3.pkl' dataset\n",
    "file_path = r\"C:\\Users\\HP\\Citi_Bike_Dashboard\\02 Data\\Prepared Data\\newyork_data_cleaned_v3.pkl\"\n",
    "\n",
    "# Load the dataset into a Pandas DataFrame\n",
    "df = pd.read_pickle(file_path)\n",
    "\n",
    "# Display the first few rows to confirm successful loading (optional)\n",
    "df.head()"
   ]
  },
  {
   "cell_type": "code",
   "execution_count": 3,
   "id": "40543287-3ac9-4fef-86d3-524f8b767db4",
   "metadata": {},
   "outputs": [],
   "source": [
    "# Resetting the index\n",
    "df = df.reset_index().rename(columns={\"index\": \"date\"})"
   ]
  },
  {
   "cell_type": "code",
   "execution_count": 4,
   "id": "1cdcfced-760d-43f8-b3ed-3bbcaf62cd10",
   "metadata": {},
   "outputs": [
    {
     "data": {
      "text/plain": [
       "(29767925, 17)"
      ]
     },
     "execution_count": 4,
     "metadata": {},
     "output_type": "execute_result"
    }
   ],
   "source": [
    "# Review the shape of the dataset\n",
    "df.shape"
   ]
  },
  {
   "cell_type": "markdown",
   "id": "c7c10c66-fc56-4382-8163-92f7f6031ca0",
   "metadata": {},
   "source": [
    "### 02. Top 20 stations bar chart"
   ]
  },
  {
   "cell_type": "code",
   "execution_count": 5,
   "id": "99a878ca-8f07-4637-abf5-14992a50aff5",
   "metadata": {},
   "outputs": [],
   "source": [
    "# # Create a bar chart\n",
    "\n",
    "# fig = go.Figure(\n",
    "#     go.Bar(\n",
    "#         x=top20['start_station_name'],  # X-axis: Station names\n",
    "#         y=top20['value'],  # Y-axis: Number of trips\n",
    "#         marker={'color': top20['value'], 'colorscale': 'Blues'}  # Apply color scale\n",
    "#     )\n",
    "# )\n",
    "\n",
    "# # Update the layout with correct x-axis title spacing\n",
    "# fig.update_layout(\n",
    "#     title=\"Top 20 most popular bike stations in New York City\",  # Chart title\n",
    "#     xaxis=dict(\n",
    "#         title=dict(\n",
    "#             text=\"Start Stations\",  # X-axis title\n",
    "#             standoff=20  # Adds space between x-axis title and tick labels\n",
    "#         ),\n",
    "#         tickangle=-45  # Rotates x-axis labels to avoid overlap\n",
    "#     ),\n",
    "#     yaxis_title=\"Sum of trips\",  # Y-axis title\n",
    "#     width=900, \n",
    "#     height=600\n",
    "# )\n",
    "\n",
    "# # Display the figure\n",
    "# fig.show()\n",
    "\n",
    "# This code might not be used"
   ]
  },
  {
   "cell_type": "markdown",
   "id": "205cbed1-7c3a-4af3-87d7-eed574c906f6",
   "metadata": {},
   "source": [
    "### 03. Creating a random sample of `df`"
   ]
  },
  {
   "cell_type": "code",
   "execution_count": 6,
   "id": "da8d91d4-777a-43da-b461-b30e13431ac2",
   "metadata": {},
   "outputs": [],
   "source": [
    "# Create a month column \n",
    "\n",
    "df['date'] = pd.to_datetime(df['date'], format = '%Y-%m-%d')\n",
    "df['month'] = df['date'].dt.month\n",
    "df['month'] = df['month'].astype('int')"
   ]
  },
  {
   "cell_type": "code",
   "execution_count": 7,
   "id": "0de9b257-da57-4165-a64d-bc6d083d0684",
   "metadata": {},
   "outputs": [],
   "source": [
    "# Create the season column\n",
    "\n",
    "df['season'] = [\n",
    "\"winter\" if (month == 12 or 1 <= month <= 4)\n",
    "    else \"spring\" if (4 < month <= 5)\n",
    "    else \"summer\" if (6 <= month <= 9)\n",
    "    else \"fall\"\n",
    "for month in df['month']\n",
    "    ]"
   ]
  },
  {
   "cell_type": "code",
   "execution_count": 8,
   "id": "f52c1388-10fa-46e3-b2ea-f4673fe0e124",
   "metadata": {},
   "outputs": [
    {
     "data": {
      "text/plain": [
       "Index(['date', 'ride_id', 'rideable_type', 'started_at', 'ended_at',\n",
       "       'start_station_name', 'start_station_id', 'end_station_name',\n",
       "       'end_station_id', 'start_lat', 'start_lng', 'end_lat', 'end_lng',\n",
       "       'member_casual', 'avgTemp', 'bike_rides_daily', 'trip_duration',\n",
       "       'month', 'season'],\n",
       "      dtype='object')"
      ]
     },
     "execution_count": 8,
     "metadata": {},
     "output_type": "execute_result"
    }
   ],
   "source": [
    "df.columns"
   ]
  },
  {
   "cell_type": "code",
   "execution_count": 9,
   "id": "44ed9325-a8e3-4874-8366-1a6919dd5a2b",
   "metadata": {},
   "outputs": [],
   "source": [
    "# Create a copy with fewer columns\n",
    "\n",
    "df_1 = df.drop(columns = {'ride_id', 'rideable_type', 'ended_at',\n",
    "                           'start_station_id', 'end_station_id', 'start_lat', 'start_lng',\n",
    "                           'end_lat', 'end_lng', 'member_casual', 'trip_duration', 'month'})"
   ]
  },
  {
   "cell_type": "code",
   "execution_count": 10,
   "id": "a4ce3943-6ed4-4212-99c1-7bbe18b00e59",
   "metadata": {},
   "outputs": [
    {
     "data": {
      "text/plain": [
       "Index(['date', 'started_at', 'start_station_name', 'end_station_name',\n",
       "       'avgTemp', 'bike_rides_daily', 'season'],\n",
       "      dtype='object')"
      ]
     },
     "execution_count": 10,
     "metadata": {},
     "output_type": "execute_result"
    }
   ],
   "source": [
    "df_1.columns"
   ]
  },
  {
   "cell_type": "code",
   "execution_count": 11,
   "id": "2997da70-1607-40b6-9823-efd1592fbe48",
   "metadata": {},
   "outputs": [],
   "source": [
    "# Set the random seed to ensure reproducibility of results\n",
    "np.random.seed(32)\n",
    "\n",
    "# Generate an array of random values between 0 and 1 (one value per row in df_1)\n",
    "# Then, create a boolean mask where ~92% of the values are True and ~8% are False\n",
    "red = np.random.rand(len(df_1)) <= 0.92"
   ]
  },
  {
   "cell_type": "code",
   "execution_count": 12,
   "id": "e6f947f5-834b-49d6-b0af-2f7a55dfa30e",
   "metadata": {},
   "outputs": [],
   "source": [
    "# Use the boolean mask 'red' to filter df_1 and create a smaller dataset\n",
    "# '~red' inverts the mask, selecting the ~8% of rows that were marked as False\n",
    "small = df_1[~red]"
   ]
  },
  {
   "cell_type": "code",
   "execution_count": 13,
   "id": "6c546b01-bafe-400e-b2b3-1e6047cef2bf",
   "metadata": {},
   "outputs": [
    {
     "data": {
      "text/plain": [
       "(2379383, 7)"
      ]
     },
     "execution_count": 13,
     "metadata": {},
     "output_type": "execute_result"
    }
   ],
   "source": [
    "small.shape"
   ]
  },
  {
   "cell_type": "code",
   "execution_count": 14,
   "id": "9aec1ec8-7f90-4183-a730-d497962ab95e",
   "metadata": {},
   "outputs": [],
   "source": [
    "# Save the cleaned and reduced dataset to a CSV file\n",
    "# This file will be used for visualization in the Streamlit dashboard\n",
    "small.to_csv('reduced_data_to_plot_7.csv', index=False)"
   ]
  },
  {
   "cell_type": "code",
   "execution_count": null,
   "id": "0c209395-8cc4-468f-9651-6a725d78e096",
   "metadata": {},
   "outputs": [],
   "source": []
  }
 ],
 "metadata": {
  "kernelspec": {
   "display_name": "Python [conda env:citi_env] *",
   "language": "python",
   "name": "conda-env-citi_env-py"
  },
  "language_info": {
   "codemirror_mode": {
    "name": "ipython",
    "version": 3
   },
   "file_extension": ".py",
   "mimetype": "text/x-python",
   "name": "python",
   "nbconvert_exporter": "python",
   "pygments_lexer": "ipython3",
   "version": "3.13.1"
  }
 },
 "nbformat": 4,
 "nbformat_minor": 5
}
