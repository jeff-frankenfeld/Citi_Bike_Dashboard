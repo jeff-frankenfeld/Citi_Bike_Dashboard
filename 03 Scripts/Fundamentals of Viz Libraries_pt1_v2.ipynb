{
 "cells": [
  {
   "cell_type": "markdown",
   "id": "e5a34ad2-de6a-42a6-bd29-f7823b29e916",
   "metadata": {},
   "source": [
    "# Table of Contents\n",
    "\n",
    "## 01. Library and Data Import\n",
    "## 02. Data Cleaning\n",
    "        Optimize Data Types\n",
    "        Filter out trips starting in 2021\n",
    "        Drop unnecessary columns\n",
    "        Handle Missing Values\n",
    "        Convert Float Columns to `float32`\n",
    "        Removing invalid trip data\n",
    "        Handle Duplicate Values\n",
    "## 03. Temperature Line Chart\n",
    "## 04. Aggregate trips and merge with main dataframe\n",
    "## 05. Bike Trips & Temperatures Line Chart\n",
    "## 06. Trip Duration Histogram\n",
    "## 07. Dataset Export"
   ]
  },
  {
   "cell_type": "markdown",
   "id": "bad3a8eb-ef8d-4c08-82eb-8ccfd51244d3",
   "metadata": {},
   "source": [
    "### 01. Library and Data Import"
   ]
  },
  {
   "cell_type": "code",
   "execution_count": 1,
   "id": "25579c08-00f1-46c3-ba94-74efefda7af1",
   "metadata": {},
   "outputs": [],
   "source": [
    "# Import necessary libraries\n",
    "\n",
    "# Pandas for data manipulation and analysis\n",
    "import pandas as pd\n",
    "\n",
    "# Matplotlib for data visualization\n",
    "from matplotlib import pyplot as plt\n",
    "\n",
    "# NumPy for numerical operations and array handling\n",
    "import numpy as np\n",
    "\n",
    "# Datetime module for handling date and time operations\n",
    "from datetime import datetime as dt"
   ]
  },
  {
   "cell_type": "code",
   "execution_count": 2,
   "id": "b7453238-cbb9-4b44-b05d-367035d15233",
   "metadata": {},
   "outputs": [
    {
     "data": {
      "text/plain": [
       "'3.10.0'"
      ]
     },
     "execution_count": 2,
     "metadata": {},
     "output_type": "execute_result"
    }
   ],
   "source": [
    "# Import the Matplotlib library for data visualization\n",
    "import matplotlib  \n",
    "\n",
    "# Check and display the installed version of Matplotlib\n",
    "matplotlib.__version__"
   ]
  },
  {
   "cell_type": "code",
   "execution_count": 3,
   "id": "fd2aff7d-469a-4f1d-ab0b-880a8eba4d12",
   "metadata": {},
   "outputs": [
    {
     "name": "stderr",
     "output_type": "stream",
     "text": [
      "C:\\Users\\HP\\AppData\\Local\\Temp\\ipykernel_20152\\2075897571.py:6: DtypeWarning: Columns (6,8) have mixed types. Specify dtype option on import or set low_memory=False.\n",
      "  df = pd.read_csv(file_path, index_col=0)\n"
     ]
    },
    {
     "data": {
      "text/html": [
       "<div>\n",
       "<style scoped>\n",
       "    .dataframe tbody tr th:only-of-type {\n",
       "        vertical-align: middle;\n",
       "    }\n",
       "\n",
       "    .dataframe tbody tr th {\n",
       "        vertical-align: top;\n",
       "    }\n",
       "\n",
       "    .dataframe thead th {\n",
       "        text-align: right;\n",
       "    }\n",
       "</style>\n",
       "<table border=\"1\" class=\"dataframe\">\n",
       "  <thead>\n",
       "    <tr style=\"text-align: right;\">\n",
       "      <th></th>\n",
       "      <th>ride_id</th>\n",
       "      <th>rideable_type</th>\n",
       "      <th>started_at</th>\n",
       "      <th>ended_at</th>\n",
       "      <th>start_station_name</th>\n",
       "      <th>start_station_id</th>\n",
       "      <th>end_station_name</th>\n",
       "      <th>end_station_id</th>\n",
       "      <th>start_lat</th>\n",
       "      <th>start_lng</th>\n",
       "      <th>end_lat</th>\n",
       "      <th>end_lng</th>\n",
       "      <th>member_casual</th>\n",
       "      <th>date</th>\n",
       "      <th>avgTemp</th>\n",
       "      <th>_merge</th>\n",
       "    </tr>\n",
       "  </thead>\n",
       "  <tbody>\n",
       "    <tr>\n",
       "      <th>7012723</th>\n",
       "      <td>34BD74D84D320CF5</td>\n",
       "      <td>electric_bike</td>\n",
       "      <td>2021-01-30 17:30:45.544</td>\n",
       "      <td>2022-05-23 06:17:27.131</td>\n",
       "      <td>W 144 St &amp; Adam Clayton Powell Blvd</td>\n",
       "      <td>7932.1</td>\n",
       "      <td>Frederick Douglass Blvd &amp; W 112 St</td>\n",
       "      <td>7631.23</td>\n",
       "      <td>40.820877</td>\n",
       "      <td>-73.939249</td>\n",
       "      <td>40.801694</td>\n",
       "      <td>-73.957145</td>\n",
       "      <td>casual</td>\n",
       "      <td>2021-01-30</td>\n",
       "      <td>NaN</td>\n",
       "      <td>left_only</td>\n",
       "    </tr>\n",
       "    <tr>\n",
       "      <th>16758689</th>\n",
       "      <td>FA436228F4CD7647</td>\n",
       "      <td>classic_bike</td>\n",
       "      <td>2021-02-15 14:11:20.946</td>\n",
       "      <td>2022-08-10 15:01:30.839</td>\n",
       "      <td>Kent Ave &amp; S 11 St</td>\n",
       "      <td>5062.01</td>\n",
       "      <td>Union Ave &amp; Jackson St</td>\n",
       "      <td>5300.06</td>\n",
       "      <td>40.707645</td>\n",
       "      <td>-73.968415</td>\n",
       "      <td>40.716075</td>\n",
       "      <td>-73.952029</td>\n",
       "      <td>casual</td>\n",
       "      <td>2021-02-15</td>\n",
       "      <td>NaN</td>\n",
       "      <td>left_only</td>\n",
       "    </tr>\n",
       "    <tr>\n",
       "      <th>10829245</th>\n",
       "      <td>8FC77EAE2C0561E4</td>\n",
       "      <td>classic_bike</td>\n",
       "      <td>2021-03-11 22:08:54.461</td>\n",
       "      <td>2022-06-16 09:12:21.565</td>\n",
       "      <td>Union St &amp; 4 Ave</td>\n",
       "      <td>4175.15</td>\n",
       "      <td>Flatbush Ave &amp; Ocean Ave</td>\n",
       "      <td>3704.04</td>\n",
       "      <td>40.677274</td>\n",
       "      <td>-73.982820</td>\n",
       "      <td>40.663657</td>\n",
       "      <td>-73.963014</td>\n",
       "      <td>casual</td>\n",
       "      <td>2021-03-11</td>\n",
       "      <td>NaN</td>\n",
       "      <td>left_only</td>\n",
       "    </tr>\n",
       "    <tr>\n",
       "      <th>2167335</th>\n",
       "      <td>BF45D1E037463AA8</td>\n",
       "      <td>classic_bike</td>\n",
       "      <td>2021-03-14 18:17:59.923</td>\n",
       "      <td>2022-02-02 23:38:01.993</td>\n",
       "      <td>N 12 St &amp; Bedford Ave</td>\n",
       "      <td>5450.04</td>\n",
       "      <td>S Portland Ave &amp; Hanson Pl</td>\n",
       "      <td>4354.05</td>\n",
       "      <td>40.720798</td>\n",
       "      <td>-73.954847</td>\n",
       "      <td>40.685396</td>\n",
       "      <td>-73.974315</td>\n",
       "      <td>member</td>\n",
       "      <td>2021-03-14</td>\n",
       "      <td>NaN</td>\n",
       "      <td>left_only</td>\n",
       "    </tr>\n",
       "    <tr>\n",
       "      <th>21775695</th>\n",
       "      <td>763D82F8CFA1D9D1</td>\n",
       "      <td>classic_bike</td>\n",
       "      <td>2021-03-31 15:35:20.070</td>\n",
       "      <td>2022-09-25 14:33:21.607</td>\n",
       "      <td>Willoughby St &amp; Fleet St</td>\n",
       "      <td>4628.05</td>\n",
       "      <td>DeKalb Ave &amp; Franklin Ave</td>\n",
       "      <td>4528.01</td>\n",
       "      <td>40.691966</td>\n",
       "      <td>-73.981302</td>\n",
       "      <td>40.690648</td>\n",
       "      <td>-73.957462</td>\n",
       "      <td>casual</td>\n",
       "      <td>2021-03-31</td>\n",
       "      <td>NaN</td>\n",
       "      <td>left_only</td>\n",
       "    </tr>\n",
       "  </tbody>\n",
       "</table>\n",
       "</div>"
      ],
      "text/plain": [
       "                   ride_id  rideable_type               started_at  \\\n",
       "7012723   34BD74D84D320CF5  electric_bike  2021-01-30 17:30:45.544   \n",
       "16758689  FA436228F4CD7647   classic_bike  2021-02-15 14:11:20.946   \n",
       "10829245  8FC77EAE2C0561E4   classic_bike  2021-03-11 22:08:54.461   \n",
       "2167335   BF45D1E037463AA8   classic_bike  2021-03-14 18:17:59.923   \n",
       "21775695  763D82F8CFA1D9D1   classic_bike  2021-03-31 15:35:20.070   \n",
       "\n",
       "                         ended_at                   start_station_name  \\\n",
       "7012723   2022-05-23 06:17:27.131  W 144 St & Adam Clayton Powell Blvd   \n",
       "16758689  2022-08-10 15:01:30.839                   Kent Ave & S 11 St   \n",
       "10829245  2022-06-16 09:12:21.565                     Union St & 4 Ave   \n",
       "2167335   2022-02-02 23:38:01.993                N 12 St & Bedford Ave   \n",
       "21775695  2022-09-25 14:33:21.607             Willoughby St & Fleet St   \n",
       "\n",
       "         start_station_id                    end_station_name end_station_id  \\\n",
       "7012723            7932.1  Frederick Douglass Blvd & W 112 St        7631.23   \n",
       "16758689          5062.01              Union Ave & Jackson St        5300.06   \n",
       "10829245          4175.15            Flatbush Ave & Ocean Ave        3704.04   \n",
       "2167335           5450.04          S Portland Ave & Hanson Pl        4354.05   \n",
       "21775695          4628.05           DeKalb Ave & Franklin Ave        4528.01   \n",
       "\n",
       "          start_lat  start_lng    end_lat    end_lng member_casual  \\\n",
       "7012723   40.820877 -73.939249  40.801694 -73.957145        casual   \n",
       "16758689  40.707645 -73.968415  40.716075 -73.952029        casual   \n",
       "10829245  40.677274 -73.982820  40.663657 -73.963014        casual   \n",
       "2167335   40.720798 -73.954847  40.685396 -73.974315        member   \n",
       "21775695  40.691966 -73.981302  40.690648 -73.957462        casual   \n",
       "\n",
       "                date  avgTemp     _merge  \n",
       "7012723   2021-01-30      NaN  left_only  \n",
       "16758689  2021-02-15      NaN  left_only  \n",
       "10829245  2021-03-11      NaN  left_only  \n",
       "2167335   2021-03-14      NaN  left_only  \n",
       "21775695  2021-03-31      NaN  left_only  "
      ]
     },
     "execution_count": 3,
     "metadata": {},
     "output_type": "execute_result"
    }
   ],
   "source": [
    "# Define the file path for the 'newyork_data.csv' dataset\n",
    "file_path = r\"C:\\Users\\HP\\Citi_Bike_Dashboard\\02 Data\\Prepared Data\\newyork_data.csv\"\n",
    "\n",
    "# Load the dataset into a Pandas DataFrame\n",
    "# - `index_col=0` sets the first column as the index\n",
    "df = pd.read_csv(file_path, index_col=0)  \n",
    "\n",
    "# Display the first few rows to confirm successful loading (optional)\n",
    "df.head()"
   ]
  },
  {
   "cell_type": "markdown",
   "id": "93d24516-0929-4b9f-9d43-3756afe05748",
   "metadata": {},
   "source": [
    "### 02. Data Cleaning"
   ]
  },
  {
   "cell_type": "code",
   "execution_count": 4,
   "id": "eaa76025-5849-43e3-9366-e6c41b44773f",
   "metadata": {},
   "outputs": [
    {
     "name": "stdout",
     "output_type": "stream",
     "text": [
      "<class 'pandas.core.frame.DataFrame'>\n",
      "Index: 29838806 entries, 7012723 to 29448623\n",
      "Data columns (total 16 columns):\n",
      " #   Column              Dtype  \n",
      "---  ------              -----  \n",
      " 0   ride_id             object \n",
      " 1   rideable_type       object \n",
      " 2   started_at          object \n",
      " 3   ended_at            object \n",
      " 4   start_station_name  object \n",
      " 5   start_station_id    object \n",
      " 6   end_station_name    object \n",
      " 7   end_station_id      object \n",
      " 8   start_lat           float64\n",
      " 9   start_lng           float64\n",
      " 10  end_lat             float64\n",
      " 11  end_lng             float64\n",
      " 12  member_casual       object \n",
      " 13  date                object \n",
      " 14  avgTemp             float64\n",
      " 15  _merge              object \n",
      "dtypes: float64(5), object(11)\n",
      "memory usage: 3.8+ GB\n"
     ]
    }
   ],
   "source": [
    "# View basic information about the dataset\n",
    "df.info()"
   ]
  },
  {
   "cell_type": "code",
   "execution_count": 6,
   "id": "77de6f1d-b4fb-4837-b8d1-66b70e9cb8b7",
   "metadata": {},
   "outputs": [
    {
     "data": {
      "text/plain": [
       "(29838806, 16)"
      ]
     },
     "execution_count": 6,
     "metadata": {},
     "output_type": "execute_result"
    }
   ],
   "source": [
    "df.shape"
   ]
  },
  {
   "cell_type": "markdown",
   "id": "d7a73639-28cd-4632-9882-809888dcd35b",
   "metadata": {},
   "source": [
    "#### Optimize Data Types"
   ]
  },
  {
   "cell_type": "code",
   "execution_count": 7,
   "id": "8aba89ad-d30e-42a9-a7bd-9ea63ef29e9d",
   "metadata": {},
   "outputs": [],
   "source": [
    "# Define optimized dtypes\n",
    "dtype_optimization = {\n",
    "    'ride_id': 'category',  # Unique identifier - best as a category\n",
    "    'rideable_type': 'category',  # Limited set of bike types\n",
    "    'start_station_name': 'category',  \n",
    "    'start_station_id': 'category',  \n",
    "    'end_station_name': 'category',  \n",
    "    'end_station_id': 'category',  \n",
    "    'member_casual': 'category'\n",
    "}"
   ]
  },
  {
   "cell_type": "code",
   "execution_count": 8,
   "id": "dc86fe7f-6afb-4568-b75e-2b3888fcee5f",
   "metadata": {},
   "outputs": [],
   "source": [
    "# Convert categorical columns\n",
    "\n",
    "df = df.astype(dtype_optimization)"
   ]
  },
  {
   "cell_type": "code",
   "execution_count": 9,
   "id": "0c678e28-dee5-4791-84df-0807e57efc39",
   "metadata": {},
   "outputs": [],
   "source": [
    "# Convert datetime columns\n",
    "\n",
    "df['started_at'] = pd.to_datetime(df['started_at'], errors='coerce')\n",
    "df['ended_at'] = pd.to_datetime(df['ended_at'], errors='coerce')\n",
    "df['date'] = pd.to_datetime(df['date'], errors='coerce')"
   ]
  },
  {
   "cell_type": "code",
   "execution_count": 10,
   "id": "384e4653-37fa-4583-af2e-f442ba83672d",
   "metadata": {},
   "outputs": [
    {
     "name": "stdout",
     "output_type": "stream",
     "text": [
      "<class 'pandas.core.frame.DataFrame'>\n",
      "Index: 29838806 entries, 7012723 to 29448623\n",
      "Data columns (total 16 columns):\n",
      " #   Column              Dtype         \n",
      "---  ------              -----         \n",
      " 0   ride_id             category      \n",
      " 1   rideable_type       category      \n",
      " 2   started_at          datetime64[ns]\n",
      " 3   ended_at            datetime64[ns]\n",
      " 4   start_station_name  category      \n",
      " 5   start_station_id    category      \n",
      " 6   end_station_name    category      \n",
      " 7   end_station_id      category      \n",
      " 8   start_lat           float64       \n",
      " 9   start_lng           float64       \n",
      " 10  end_lat             float64       \n",
      " 11  end_lng             float64       \n",
      " 12  member_casual       category      \n",
      " 13  date                datetime64[ns]\n",
      " 14  avgTemp             float64       \n",
      " 15  _merge              object        \n",
      "dtypes: category(7), datetime64[ns](3), float64(5), object(1)\n",
      "memory usage: 6.7 GB\n"
     ]
    }
   ],
   "source": [
    "# Display memory usage after optimization\n",
    "\n",
    "df.info(memory_usage='deep')"
   ]
  },
  {
   "cell_type": "markdown",
   "id": "2d82f06a-701a-4339-ab28-c07532e3e9fe",
   "metadata": {},
   "source": [
    "#### Filter out trips starting in 2021"
   ]
  },
  {
   "cell_type": "code",
   "execution_count": 11,
   "id": "d063f78c-5026-4e79-bfdf-e8a4b38f71b8",
   "metadata": {},
   "outputs": [],
   "source": [
    "# Keep only trips that started in 2022\n",
    "df = df[df['date'].dt.year == 2022]\n",
    "\n",
    "# Reset index after filtering\n",
    "df.reset_index(drop=True, inplace=True)"
   ]
  },
  {
   "cell_type": "code",
   "execution_count": 12,
   "id": "21d0be44-b670-4a83-bd0c-4acd51c87567",
   "metadata": {},
   "outputs": [
    {
     "data": {
      "text/plain": [
       "(29838166, 16)"
      ]
     },
     "execution_count": 12,
     "metadata": {},
     "output_type": "execute_result"
    }
   ],
   "source": [
    "df.shape"
   ]
  },
  {
   "cell_type": "markdown",
   "id": "a18247c3-f95b-45a3-89dc-96cb5713954e",
   "metadata": {},
   "source": [
    "640 records were removed, which aligns with 640 'left_only' records from the dataframe merging in the previous task."
   ]
  },
  {
   "cell_type": "markdown",
   "id": "e1d303a2-8f1f-457f-a8a6-8e0f6ccfdfde",
   "metadata": {},
   "source": [
    "#### Drop unnecessary columns"
   ]
  },
  {
   "cell_type": "code",
   "execution_count": 13,
   "id": "4a442955-3ad9-4dd4-8ba0-a304bdaa6d00",
   "metadata": {},
   "outputs": [],
   "source": [
    "# Removing the '_merge' column\n",
    "\n",
    "df.drop(columns=['_merge'], inplace=True)"
   ]
  },
  {
   "cell_type": "markdown",
   "id": "2ec2b69c-2bad-4602-be61-f06b00a9fc0e",
   "metadata": {},
   "source": [
    "#### Handle Missing Values"
   ]
  },
  {
   "cell_type": "code",
   "execution_count": 14,
   "id": "81980a95-7e24-422b-a6b2-b177e7f9d95e",
   "metadata": {},
   "outputs": [
    {
     "data": {
      "text/plain": [
       "ride_id                   0\n",
       "rideable_type             0\n",
       "started_at                0\n",
       "ended_at                  0\n",
       "start_station_name       49\n",
       "start_station_id         49\n",
       "end_station_name      69884\n",
       "end_station_id        69884\n",
       "start_lat                 0\n",
       "start_lng                 0\n",
       "end_lat               37223\n",
       "end_lng               37223\n",
       "member_casual             0\n",
       "date                      0\n",
       "avgTemp                   0\n",
       "dtype: int64"
      ]
     },
     "execution_count": 14,
     "metadata": {},
     "output_type": "execute_result"
    }
   ],
   "source": [
    "# Check for missing values\n",
    "\n",
    "df.isnull().sum()"
   ]
  },
  {
   "cell_type": "code",
   "execution_count": 15,
   "id": "34b61434-5f28-462d-8521-7260d842868c",
   "metadata": {},
   "outputs": [
    {
     "name": "stdout",
     "output_type": "stream",
     "text": [
      "ride_id               0\n",
      "rideable_type         0\n",
      "started_at            0\n",
      "ended_at              0\n",
      "start_station_name    0\n",
      "start_station_id      0\n",
      "end_station_name      0\n",
      "end_station_id        0\n",
      "start_lat             0\n",
      "start_lng             0\n",
      "end_lat               0\n",
      "end_lng               0\n",
      "member_casual         0\n",
      "date                  0\n",
      "avgTemp               0\n",
      "dtype: int64\n"
     ]
    }
   ],
   "source": [
    "# Drop rows with missing start station data\n",
    "df = df.dropna(subset=['start_station_name', 'start_station_id'])\n",
    "\n",
    "# Drop rows with missing end station data\n",
    "df = df.dropna(subset=['end_station_name', 'end_station_id'])\n",
    "\n",
    "# Drop rows with missing end coordinates\n",
    "df = df.dropna(subset=['end_lat', 'end_lng'])\n",
    "\n",
    "# Reset index after dropping rows\n",
    "df.reset_index(drop=True, inplace=True)\n",
    "\n",
    "# Verify missing values are handled\n",
    "print(df.isnull().sum())"
   ]
  },
  {
   "cell_type": "code",
   "execution_count": 18,
   "id": "1c5e62c8-ea6b-4781-b08b-f91fb29d6325",
   "metadata": {},
   "outputs": [
    {
     "data": {
      "text/plain": [
       "(29768282, 15)"
      ]
     },
     "execution_count": 18,
     "metadata": {},
     "output_type": "execute_result"
    }
   ],
   "source": [
    "df.shape"
   ]
  },
  {
   "cell_type": "markdown",
   "id": "4a49abf4-9c43-47a2-9659-8bdfebf0ef51",
   "metadata": {},
   "source": [
    "**Missing Values removal explanation**\n",
    "\n",
    "1. **Start Station Data**\n",
    "    - These fields are critical for identifying where the trip started, therefore it is crucial to have this information.\n",
    "    - Since the number is very small (~0.0002% of dataset) we can drop them and it won't significantly affect the analysis.\n",
    "2. **End Station Data**\n",
    "   - Missing end station data prevents proper trip mapping and analysis, therefore the missing fields should be removed.\n",
    "   - Keeping them would skew results when analyzing the most common destinations\n",
    "3. **End Coordinates Data**\n",
    "   - Missing end coordinates makes geographic analysis unreliable.\n",
    "   - Without coordinates, the destination cannot be mapped.\n",
    "4. **Summary**\n",
    "   - Only ~0.3% of the dataset is removed, thus preserving most records."
   ]
  },
  {
   "cell_type": "markdown",
   "id": "857c5d68-283b-42cd-abac-1126f51f2299",
   "metadata": {},
   "source": [
    "#### Convert Float Columns to `float32`"
   ]
  },
  {
   "cell_type": "code",
   "execution_count": 16,
   "id": "ad299d6d-0add-4d42-8057-5dba7b006dfa",
   "metadata": {},
   "outputs": [],
   "source": [
    "# Converting `float64` to `float32`\n",
    "# This will reduce precision for float columns and saves memory\n",
    "\n",
    "float_cols = df.select_dtypes(include=['float64']).columns\n",
    "df[float_cols] = df[float_cols].astype('float32')"
   ]
  },
  {
   "cell_type": "code",
   "execution_count": 17,
   "id": "89ca5751-d14c-49d0-891d-7adba0cd1a07",
   "metadata": {},
   "outputs": [
    {
     "name": "stdout",
     "output_type": "stream",
     "text": [
      "<class 'pandas.core.frame.DataFrame'>\n",
      "RangeIndex: 29768282 entries, 0 to 29768281\n",
      "Data columns (total 15 columns):\n",
      " #   Column              Dtype         \n",
      "---  ------              -----         \n",
      " 0   ride_id             category      \n",
      " 1   rideable_type       category      \n",
      " 2   started_at          datetime64[ns]\n",
      " 3   ended_at            datetime64[ns]\n",
      " 4   start_station_name  category      \n",
      " 5   start_station_id    category      \n",
      " 6   end_station_name    category      \n",
      " 7   end_station_id      category      \n",
      " 8   start_lat           float32       \n",
      " 9   start_lng           float32       \n",
      " 10  end_lat             float32       \n",
      " 11  end_lng             float32       \n",
      " 12  member_casual       category      \n",
      " 13  date                datetime64[ns]\n",
      " 14  avgTemp             float32       \n",
      "dtypes: category(7), datetime64[ns](3), float32(5)\n",
      "memory usage: 2.8 GB\n"
     ]
    }
   ],
   "source": [
    "df.info()"
   ]
  },
  {
   "cell_type": "markdown",
   "id": "460a55e2-9e49-425c-82c8-987ce5604f45",
   "metadata": {},
   "source": [
    "#### Removing invalid trip data"
   ]
  },
  {
   "cell_type": "code",
   "execution_count": 19,
   "id": "e11e399c-8c32-41c9-950e-2f9cdc8f6d24",
   "metadata": {},
   "outputs": [],
   "source": [
    "# Removing trips where the end data is BEFORE the start date\n",
    "# This will remove trips that have negative duration, thus removing unusable trip data\n",
    "\n",
    "df = df[df['ended_at'] > df['started_at']]"
   ]
  },
  {
   "cell_type": "code",
   "execution_count": 20,
   "id": "eaf6fa91-c7c1-4745-a802-37f898366e0e",
   "metadata": {},
   "outputs": [
    {
     "data": {
      "text/plain": [
       "(29767925, 15)"
      ]
     },
     "execution_count": 20,
     "metadata": {},
     "output_type": "execute_result"
    }
   ],
   "source": [
    "df.shape"
   ]
  },
  {
   "cell_type": "markdown",
   "id": "a717c22e-ab24-4cd4-8d5c-1b3796b66f52",
   "metadata": {},
   "source": [
    "- There were 357 rows where a negative duration occurred.\n",
    "- This was only ~0.001% of the dataset and removing them will not siginicantly affect the analysis."
   ]
  },
  {
   "cell_type": "markdown",
   "id": "f8a155da-9fc7-4b1f-8a9e-b95ff50fda51",
   "metadata": {},
   "source": [
    "#### Handle Duplicate Values"
   ]
  },
  {
   "cell_type": "code",
   "execution_count": 21,
   "id": "1ff478ec-b306-40e7-ba92-458c6cef8fff",
   "metadata": {},
   "outputs": [
    {
     "data": {
      "text/plain": [
       "np.int64(0)"
      ]
     },
     "execution_count": 21,
     "metadata": {},
     "output_type": "execute_result"
    }
   ],
   "source": [
    "# Check for duplicates\n",
    "\n",
    "df.duplicated().sum()"
   ]
  },
  {
   "cell_type": "markdown",
   "id": "51a59e67-5ece-436e-91e3-7ca0f4d7e38d",
   "metadata": {},
   "source": [
    "No duplicates in the dataset and no cleaning is required for this step."
   ]
  },
  {
   "cell_type": "markdown",
   "id": "ed193ef6-af42-47d6-b921-790d874dd601",
   "metadata": {},
   "source": [
    "### 03. Temperature Line Chart"
   ]
  },
  {
   "cell_type": "code",
   "execution_count": 6,
   "id": "57acc8a2-3c16-457a-b736-ac3dbd7bfb7e",
   "metadata": {},
   "outputs": [
    {
     "data": {
      "text/html": [
       "<div>\n",
       "<style scoped>\n",
       "    .dataframe tbody tr th:only-of-type {\n",
       "        vertical-align: middle;\n",
       "    }\n",
       "\n",
       "    .dataframe tbody tr th {\n",
       "        vertical-align: top;\n",
       "    }\n",
       "\n",
       "    .dataframe thead th {\n",
       "        text-align: right;\n",
       "    }\n",
       "</style>\n",
       "<table border=\"1\" class=\"dataframe\">\n",
       "  <thead>\n",
       "    <tr style=\"text-align: right;\">\n",
       "      <th></th>\n",
       "      <th>ride_id</th>\n",
       "      <th>rideable_type</th>\n",
       "      <th>started_at</th>\n",
       "      <th>ended_at</th>\n",
       "      <th>start_station_name</th>\n",
       "      <th>start_station_id</th>\n",
       "      <th>end_station_name</th>\n",
       "      <th>end_station_id</th>\n",
       "      <th>start_lat</th>\n",
       "      <th>start_lng</th>\n",
       "      <th>end_lat</th>\n",
       "      <th>end_lng</th>\n",
       "      <th>member_casual</th>\n",
       "      <th>avgTemp</th>\n",
       "    </tr>\n",
       "    <tr>\n",
       "      <th>date</th>\n",
       "      <th></th>\n",
       "      <th></th>\n",
       "      <th></th>\n",
       "      <th></th>\n",
       "      <th></th>\n",
       "      <th></th>\n",
       "      <th></th>\n",
       "      <th></th>\n",
       "      <th></th>\n",
       "      <th></th>\n",
       "      <th></th>\n",
       "      <th></th>\n",
       "      <th></th>\n",
       "      <th></th>\n",
       "    </tr>\n",
       "  </thead>\n",
       "  <tbody>\n",
       "    <tr>\n",
       "      <th>2022-01-01</th>\n",
       "      <td>88237B34DAFDB069</td>\n",
       "      <td>electric_bike</td>\n",
       "      <td>2022-01-01 00:00:13.532</td>\n",
       "      <td>2022-01-01 00:30:28.482</td>\n",
       "      <td>Broadway &amp; W 160 St</td>\n",
       "      <td>8157.06</td>\n",
       "      <td>Broadway &amp; W 160 St</td>\n",
       "      <td>8157.06</td>\n",
       "      <td>40.835773</td>\n",
       "      <td>-73.943398</td>\n",
       "      <td>40.835773</td>\n",
       "      <td>-73.943398</td>\n",
       "      <td>casual</td>\n",
       "      <td>11.6</td>\n",
       "    </tr>\n",
       "    <tr>\n",
       "      <th>2022-01-01</th>\n",
       "      <td>4545E384F601A7E9</td>\n",
       "      <td>classic_bike</td>\n",
       "      <td>2022-01-01 00:00:32.146</td>\n",
       "      <td>2022-01-01 00:02:15.504</td>\n",
       "      <td>Forsyth St &amp; Broome St</td>\n",
       "      <td>5453.05</td>\n",
       "      <td>Forsyth St &amp; Broome St</td>\n",
       "      <td>5453.05</td>\n",
       "      <td>40.718941</td>\n",
       "      <td>-73.992661</td>\n",
       "      <td>40.718941</td>\n",
       "      <td>-73.992661</td>\n",
       "      <td>member</td>\n",
       "      <td>11.6</td>\n",
       "    </tr>\n",
       "    <tr>\n",
       "      <th>2022-01-01</th>\n",
       "      <td>7CE9B56332A37463</td>\n",
       "      <td>electric_bike</td>\n",
       "      <td>2022-01-01 00:00:42.801</td>\n",
       "      <td>2022-01-01 00:11:38.969</td>\n",
       "      <td>Myrtle Ave &amp; Marcy Ave</td>\n",
       "      <td>4707.03</td>\n",
       "      <td>Willoughby St &amp; Fleet St</td>\n",
       "      <td>4628.05</td>\n",
       "      <td>40.695396</td>\n",
       "      <td>-73.949547</td>\n",
       "      <td>40.691967</td>\n",
       "      <td>-73.981300</td>\n",
       "      <td>member</td>\n",
       "      <td>11.6</td>\n",
       "    </tr>\n",
       "    <tr>\n",
       "      <th>2022-01-01</th>\n",
       "      <td>AEAF2FFEBB00845B</td>\n",
       "      <td>electric_bike</td>\n",
       "      <td>2022-01-01 00:00:50.604</td>\n",
       "      <td>2022-01-01 02:39:37.688</td>\n",
       "      <td>W 15 St &amp; 7 Ave</td>\n",
       "      <td>6030.06</td>\n",
       "      <td>W 33 St &amp; 7 Ave</td>\n",
       "      <td>6407.07</td>\n",
       "      <td>40.739357</td>\n",
       "      <td>-73.999321</td>\n",
       "      <td>40.750198</td>\n",
       "      <td>-73.990929</td>\n",
       "      <td>casual</td>\n",
       "      <td>11.6</td>\n",
       "    </tr>\n",
       "    <tr>\n",
       "      <th>2022-01-01</th>\n",
       "      <td>9B01074C8CABA851</td>\n",
       "      <td>classic_bike</td>\n",
       "      <td>2022-01-01 00:01:05.031</td>\n",
       "      <td>2022-01-01 00:11:53.032</td>\n",
       "      <td>W 15 St &amp; 7 Ave</td>\n",
       "      <td>6030.06</td>\n",
       "      <td>W 36 St &amp; 7 Ave</td>\n",
       "      <td>6483.06</td>\n",
       "      <td>40.739357</td>\n",
       "      <td>-73.999321</td>\n",
       "      <td>40.752148</td>\n",
       "      <td>-73.989540</td>\n",
       "      <td>member</td>\n",
       "      <td>11.6</td>\n",
       "    </tr>\n",
       "  </tbody>\n",
       "</table>\n",
       "</div>"
      ],
      "text/plain": [
       "                     ride_id  rideable_type              started_at  \\\n",
       "date                                                                  \n",
       "2022-01-01  88237B34DAFDB069  electric_bike 2022-01-01 00:00:13.532   \n",
       "2022-01-01  4545E384F601A7E9   classic_bike 2022-01-01 00:00:32.146   \n",
       "2022-01-01  7CE9B56332A37463  electric_bike 2022-01-01 00:00:42.801   \n",
       "2022-01-01  AEAF2FFEBB00845B  electric_bike 2022-01-01 00:00:50.604   \n",
       "2022-01-01  9B01074C8CABA851   classic_bike 2022-01-01 00:01:05.031   \n",
       "\n",
       "                          ended_at      start_station_name start_station_id  \\\n",
       "date                                                                          \n",
       "2022-01-01 2022-01-01 00:30:28.482     Broadway & W 160 St          8157.06   \n",
       "2022-01-01 2022-01-01 00:02:15.504  Forsyth St & Broome St          5453.05   \n",
       "2022-01-01 2022-01-01 00:11:38.969  Myrtle Ave & Marcy Ave          4707.03   \n",
       "2022-01-01 2022-01-01 02:39:37.688         W 15 St & 7 Ave          6030.06   \n",
       "2022-01-01 2022-01-01 00:11:53.032         W 15 St & 7 Ave          6030.06   \n",
       "\n",
       "                    end_station_name end_station_id  start_lat  start_lng  \\\n",
       "date                                                                        \n",
       "2022-01-01       Broadway & W 160 St        8157.06  40.835773 -73.943398   \n",
       "2022-01-01    Forsyth St & Broome St        5453.05  40.718941 -73.992661   \n",
       "2022-01-01  Willoughby St & Fleet St        4628.05  40.695396 -73.949547   \n",
       "2022-01-01           W 33 St & 7 Ave        6407.07  40.739357 -73.999321   \n",
       "2022-01-01           W 36 St & 7 Ave        6483.06  40.739357 -73.999321   \n",
       "\n",
       "              end_lat    end_lng member_casual  avgTemp  \n",
       "date                                                     \n",
       "2022-01-01  40.835773 -73.943398        casual     11.6  \n",
       "2022-01-01  40.718941 -73.992661        member     11.6  \n",
       "2022-01-01  40.691967 -73.981300        member     11.6  \n",
       "2022-01-01  40.750198 -73.990929        casual     11.6  \n",
       "2022-01-01  40.752148 -73.989540        member     11.6  "
      ]
     },
     "execution_count": 6,
     "metadata": {},
     "output_type": "execute_result"
    }
   ],
   "source": [
    "# Set the 'date' column as the index to enable time-series analysis\n",
    "df_temp = df.set_index('date')\n",
    "\n",
    "# Display the first few rows to confirm changes\n",
    "df_temp.head()"
   ]
  },
  {
   "cell_type": "code",
   "execution_count": 7,
   "id": "5e0b10c8-0059-493f-ad83-6bfed1df9de5",
   "metadata": {},
   "outputs": [
    {
     "name": "stderr",
     "output_type": "stream",
     "text": [
      "C:\\Users\\HP\\anaconda3\\envs\\citi_env\\Lib\\site-packages\\IPython\\core\\pylabtools.py:170: UserWarning: Creating legend with loc=\"best\" can be slow with large amounts of data.\n",
      "  fig.canvas.print_figure(bytes_io, **kw)\n"
     ]
    },
    {
     "data": {
      "image/png": "[encoded data removed]",
      "text/plain": [
       "<Figure size 1200x600 with 1 Axes>"
      ]
     },
     "metadata": {},
     "output_type": "display_data"
    }
   ],
   "source": [
    "# Set figure size for better readability\n",
    "plt.figure(figsize=(12, 6))  \n",
    "\n",
    "# Add title to the plot\n",
    "plt.title('Average Temperature Trend in New York City (2022)', fontsize=14)\n",
    "\n",
    "# Plot the daily average temperature trend\n",
    "plt.plot(df_temp['avgTemp'], color='royalblue', linewidth=2, label='Avg Temperature')\n",
    "\n",
    "# Add x-axis label\n",
    "plt.xlabel('Date', fontsize=12)\n",
    "\n",
    "# Add y-axis label\n",
    "plt.ylabel('Temperature (°C)', fontsize=12)\n",
    "\n",
    "# Add a grid for better readability\n",
    "plt.grid(True, linestyle='--', alpha=0.5)\n",
    "\n",
    "# Add a legend\n",
    "plt.legend()\n",
    "\n",
    "# Show the plot\n",
    "plt.show()"
   ]
  },
  {
   "cell_type": "markdown",
   "id": "7bad58e5-4039-41e3-981c-f4c91b4f851c",
   "metadata": {},
   "source": [
    "**Code Explanation**\n",
    "1. **Using a line plot**\n",
    "- A line plot is best for tracking changes over time because it allows to observe trends.\n",
    "- A line chart displats fluctuations better in comparison to bar charts.\n",
    "2. **Setting a figure size**\n",
    "- A wider aspect ratio of `(12,6)` prevents the timeline for not compressing, making fluctuations easier to observe.\n",
    "3. **Custom labels, titles, & legend**\n",
    "- These provide a clear description so the audience understands what the chart represents at a glance.\n",
    "4. **Adding a Grid**\n",
    "- A dashed grid helps track data points across the chart and helps compare different time periods (seasons)."
   ]
  },
  {
   "cell_type": "markdown",
   "id": "7b844400-20ee-4c62-b7c1-9f9fed5672ea",
   "metadata": {},
   "source": [
    "### 04. Aggregate trips and merge with main dataframe"
   ]
  },
  {
   "cell_type": "code",
   "execution_count": 8,
   "id": "327ef282-b67d-48c8-a3ec-74401b2058f5",
   "metadata": {
    "scrolled": true
   },
   "outputs": [
    {
     "data": {
      "text/plain": [
       "Index(['ride_id', 'rideable_type', 'started_at', 'ended_at',\n",
       "       'start_station_name', 'start_station_id', 'end_station_name',\n",
       "       'end_station_id', 'start_lat', 'start_lng', 'end_lat', 'end_lng',\n",
       "       'member_casual', 'date', 'avgTemp'],\n",
       "      dtype='object')"
      ]
     },
     "execution_count": 8,
     "metadata": {},
     "output_type": "execute_result"
    }
   ],
   "source": [
    "# View the column names\n",
    "\n",
    "df.columns"
   ]
  },
  {
   "cell_type": "code",
   "execution_count": 9,
   "id": "90b1e9e4-3793-4e2e-afbf-b26bc9b13d72",
   "metadata": {},
   "outputs": [
    {
     "data": {
      "text/html": [
       "<div>\n",
       "<style scoped>\n",
       "    .dataframe tbody tr th:only-of-type {\n",
       "        vertical-align: middle;\n",
       "    }\n",
       "\n",
       "    .dataframe tbody tr th {\n",
       "        vertical-align: top;\n",
       "    }\n",
       "\n",
       "    .dataframe thead th {\n",
       "        text-align: right;\n",
       "    }\n",
       "</style>\n",
       "<table border=\"1\" class=\"dataframe\">\n",
       "  <thead>\n",
       "    <tr style=\"text-align: right;\">\n",
       "      <th></th>\n",
       "      <th>date</th>\n",
       "      <th>ride_id</th>\n",
       "    </tr>\n",
       "  </thead>\n",
       "  <tbody>\n",
       "    <tr>\n",
       "      <th>0</th>\n",
       "      <td>2022-01-01</td>\n",
       "      <td>20198</td>\n",
       "    </tr>\n",
       "    <tr>\n",
       "      <th>1</th>\n",
       "      <td>2022-01-02</td>\n",
       "      <td>42203</td>\n",
       "    </tr>\n",
       "    <tr>\n",
       "      <th>2</th>\n",
       "      <td>2022-01-03</td>\n",
       "      <td>32453</td>\n",
       "    </tr>\n",
       "    <tr>\n",
       "      <th>3</th>\n",
       "      <td>2022-01-04</td>\n",
       "      <td>35869</td>\n",
       "    </tr>\n",
       "    <tr>\n",
       "      <th>4</th>\n",
       "      <td>2022-01-05</td>\n",
       "      <td>33689</td>\n",
       "    </tr>\n",
       "  </tbody>\n",
       "</table>\n",
       "</div>"
      ],
      "text/plain": [
       "        date  ride_id\n",
       "0 2022-01-01    20198\n",
       "1 2022-01-02    42203\n",
       "2 2022-01-03    32453\n",
       "3 2022-01-04    35869\n",
       "4 2022-01-05    33689"
      ]
     },
     "execution_count": 9,
     "metadata": {},
     "output_type": "execute_result"
    }
   ],
   "source": [
    "# Group the DataFrame by the 'date' column and count the number of trips per day & convert grouped data into a new Dataframe\n",
    "\n",
    "df_group = pd.DataFrame(df.groupby(['date'])['ride_id'].count()).reset_index()\n",
    "\n",
    "# Display the first few rows to verify the output\n",
    "df_group.head()"
   ]
  },
  {
   "cell_type": "code",
   "execution_count": 10,
   "id": "22bd8ed6-7616-4627-adf1-50e70cfc416c",
   "metadata": {},
   "outputs": [
    {
     "name": "stdout",
     "output_type": "stream",
     "text": [
      "_merge\n",
      "both          29767925\n",
      "left_only            0\n",
      "right_only           0\n",
      "Name: count, dtype: int64\n",
      "Shape of January 1st is (20198, 17)\n",
      "Shape of January 2nd is (42203, 17)\n",
      "Index(['ride_id', 'rideable_type', 'started_at', 'ended_at',\n",
      "       'start_station_name', 'start_station_id', 'end_station_name',\n",
      "       'end_station_id', 'start_lat', 'start_lng', 'end_lat', 'end_lng',\n",
      "       'member_casual', 'avgTemp', 'bike_rides_daily', '_merge'],\n",
      "      dtype='object')\n"
     ]
    }
   ],
   "source": [
    "# Rename the 'ride_id' column to 'bike_rides_daily' for better clarity\n",
    "df_group.rename(columns={'ride_id': 'bike_rides_daily'}, inplace=True)\n",
    "\n",
    "# Merge the grouped daily ride counts back into the main DataFrame on the 'date' column\n",
    "# 'outer' join ensures all dates are retained, even if some have missing rides\n",
    "df = df.merge(df_group, on=\"date\", how='outer', indicator=True)\n",
    "\n",
    "# Display the count of merge statuses to check for unmatched records\n",
    "print(df['_merge'].value_counts(dropna=False))\n",
    "\n",
    "# Validate the shape of the DataFrame for specific dates\n",
    "print(\"Shape of January 1st is\", df[df['date'] == '2022-01-01'].shape)  # Check first day\n",
    "print(\"Shape of January 2nd is\", df[df['date'] == '2022-01-02'].shape)  # Check second day\n",
    "\n",
    "# Set 'date' as the index for time-series analysis\n",
    "df_temp = df.set_index('date')\n",
    "\n",
    "# Print the column names of the updated DataFrame to verify changes\n",
    "print(df_temp.columns)"
   ]
  },
  {
   "cell_type": "markdown",
   "id": "ba43235b-f9f7-4dfd-a3c4-d0840333c8a6",
   "metadata": {},
   "source": [
    "### 05. Bike Trips & Temperatures Line Chart"
   ]
  },
  {
   "cell_type": "code",
   "execution_count": 11,
   "id": "21b5998e-2629-4339-8830-07c3e3dfebcb",
   "metadata": {},
   "outputs": [
    {
     "data": {
      "image/png": "[encoded data removed]",
      "text/plain": [
       "<Figure size 1000x500 with 2 Axes>"
      ]
     },
     "metadata": {},
     "output_type": "display_data"
    }
   ],
   "source": [
    "# Create a figure and primary axis object with specified figure size\n",
    "fig, ax = plt.subplots(figsize=(10, 5))\n",
    "\n",
    "# Plot the daily bike rides on the primary y-axis (left)\n",
    "ax.plot(df_temp['bike_rides_daily'], color=\"navy\", label=\"Bike Rides Daily\")\n",
    "ax.set_xlabel(\"Year 2022\", fontsize=14)  # Set x-axis label\n",
    "ax.set_ylabel(\"Bike Rides (Daily)\", color=\"navy\", fontsize=14)  # Set y-axis label with matching color\n",
    "ax.tick_params(axis='y', labelcolor=\"navy\")  # Ensure y-axis ticks match color\n",
    "ax.grid(True, linestyle=\"--\", alpha=0.5)  # Add a grid for better readability\n",
    "\n",
    "# Create a secondary y-axis (right) to overlay temperature data\n",
    "ax2 = ax.twinx()  # Initialize a twin axis object\n",
    "\n",
    "# Plot the daily average temperature on the secondary y-axis\n",
    "ax2.plot(df_temp[\"avgTemp\"], color=\"red\", label=\"Average Temperature\")\n",
    "ax2.set_ylabel(\"Average Temperature (°C)\", color=\"red\", fontsize=14)  # Set y-axis label with matching color\n",
    "ax2.tick_params(axis='y', labelcolor=\"red\")  # Ensure y-axis ticks match color\n",
    "\n",
    "# Set title for the plot\n",
    "plt.title(\"Daily Bike Rides and Temperature Trends in NYC (2022)\", fontsize=18)\n",
    "\n",
    "# Show the plot\n",
    "plt.show()"
   ]
  },
  {
   "cell_type": "markdown",
   "id": "3abe20aa-b1da-492a-9b91-3d3e5602ddc7",
   "metadata": {},
   "source": [
    "##### 1. **Code Explanation**\n",
    "- In the code above, **Matplotlib** was used to visualizse the relationship between **daily bike rides** and **temperature trends** in NYC for the year 2022.\n",
    "- A **dual-axis line plot** was created to display two different datasets with distinct y-axes\n",
    "---\n",
    "##### 2. **How Matplotlib was used**\n",
    "- The `subplots()` function initializes a **Figure** (fig) and an **Axes** (ax) object, which represents the primary plot area.\n",
    "- A line plot of daily bike rides (`ax.plot()`) is drawn using the **primary y-axis** (`ax`).\n",
    "- A **second y-axis** (`ax2`) is created using `twinx()`, allowing two different datasets (bike rides and temperature) to be plotted on the same figure.\n",
    "- A **second line plot** (`ax2.plot()`) is drawn on the secondary y-axis for temperature trends.\n",
    "- The x-axis is labeled as **\"Year 2022\"**, and the y-axes are labeled in corresponding colors (blue for bike rides; red for temperature) for better readability.\n",
    "- The title (`plt.title()`) gives context to the visualization.\n",
    "---\n",
    "##### 3. **Matplotlib Paradigm Used**\n",
    "- This code follows the **Object-Oriented (OO) Approach** of Matplotlib.\n",
    "- The `fig, ax = plt.subplots()` approach is used, meaning `ax` and `ax2` are explicitly created as objects."
   ]
  },
  {
   "cell_type": "code",
   "execution_count": 12,
   "id": "ebd35f7e-9946-4bcd-a468-17b2f32f1d75",
   "metadata": {},
   "outputs": [
    {
     "name": "stdout",
     "output_type": "stream",
     "text": [
      "Figure saved successfully to: C:\\Users\\HP\\Citi_Bike_Dashboard\\04 Analysis\\Visualizations\\bike_rides_temp_trend.png\n"
     ]
    }
   ],
   "source": [
    "# Define the save path\n",
    "save_path = r\"C:\\Users\\HP\\Citi_Bike_Dashboard\\04 Analysis\\Visualizations\\bike_rides_temp_trend.png\"\n",
    "\n",
    "# Save the figure\n",
    "fig.savefig(save_path, format='png', dpi=300, bbox_inches='tight')\n",
    "\n",
    "# Confirm the file was saved\n",
    "print(f\"Figure saved successfully to: {save_path}\")"
   ]
  },
  {
   "cell_type": "code",
   "execution_count": 14,
   "id": "dbd1bda2-f9d7-4d85-a209-304fbb3f869c",
   "metadata": {},
   "outputs": [],
   "source": [
    "# Define the file path for saving the pickle file\n",
    "# pickle_path = r\"C:\\Users\\HP\\Citi_Bike_Dashboard\\02 Data\\Prepared Data\\newyork_data_cleaned_v2.pkl\"\n",
    "\n",
    "# Save the DataFrame as a pickle file\n",
    "# df_temp.to_pickle(pickle_path)\n",
    "\n",
    "# print(\"Pickle file saved successfully!\")"
   ]
  },
  {
   "cell_type": "markdown",
   "id": "c075cef1-619e-4be1-8e78-555b83414f48",
   "metadata": {},
   "source": [
    "At this point in the script, I saved the most up-to-date dataframe. It has since been updated, but I kept this code for reference."
   ]
  },
  {
   "cell_type": "markdown",
   "id": "ed40a1b6-8015-4d78-ac99-4183bdc6344e",
   "metadata": {},
   "source": [
    "### 06. Trip Duration Histogram"
   ]
  },
  {
   "cell_type": "code",
   "execution_count": 5,
   "id": "7866819b-a775-445f-b60b-579b8e8f1450",
   "metadata": {},
   "outputs": [],
   "source": [
    "# Ensure 'started_at' and 'ended_at' are in datetime format\n",
    "df['started_at'] = pd.to_datetime(df['started_at'])\n",
    "df['ended_at'] = pd.to_datetime(df['ended_at'])"
   ]
  },
  {
   "cell_type": "code",
   "execution_count": 6,
   "id": "ec0cadf6-f87b-46c4-ad1d-cfa5708bd308",
   "metadata": {},
   "outputs": [],
   "source": [
    "# Calculate trip duration in minutes\n",
    "\n",
    "df['trip_duration'] = (df['ended_at'] - df['started_at']).dt.total_seconds() / 60  # Convert from seconds to minutes"
   ]
  },
  {
   "cell_type": "code",
   "execution_count": 7,
   "id": "4602bad1-edc7-4671-ac4e-653429aed8b8",
   "metadata": {},
   "outputs": [
    {
     "data": {
      "text/html": [
       "<div>\n",
       "<style scoped>\n",
       "    .dataframe tbody tr th:only-of-type {\n",
       "        vertical-align: middle;\n",
       "    }\n",
       "\n",
       "    .dataframe tbody tr th {\n",
       "        vertical-align: top;\n",
       "    }\n",
       "\n",
       "    .dataframe thead th {\n",
       "        text-align: right;\n",
       "    }\n",
       "</style>\n",
       "<table border=\"1\" class=\"dataframe\">\n",
       "  <thead>\n",
       "    <tr style=\"text-align: right;\">\n",
       "      <th></th>\n",
       "      <th>ride_id</th>\n",
       "      <th>rideable_type</th>\n",
       "      <th>started_at</th>\n",
       "      <th>ended_at</th>\n",
       "      <th>start_station_name</th>\n",
       "      <th>start_station_id</th>\n",
       "      <th>end_station_name</th>\n",
       "      <th>end_station_id</th>\n",
       "      <th>start_lat</th>\n",
       "      <th>start_lng</th>\n",
       "      <th>end_lat</th>\n",
       "      <th>end_lng</th>\n",
       "      <th>member_casual</th>\n",
       "      <th>avgTemp</th>\n",
       "      <th>bike_rides_daily</th>\n",
       "      <th>trip_duration</th>\n",
       "    </tr>\n",
       "    <tr>\n",
       "      <th>date</th>\n",
       "      <th></th>\n",
       "      <th></th>\n",
       "      <th></th>\n",
       "      <th></th>\n",
       "      <th></th>\n",
       "      <th></th>\n",
       "      <th></th>\n",
       "      <th></th>\n",
       "      <th></th>\n",
       "      <th></th>\n",
       "      <th></th>\n",
       "      <th></th>\n",
       "      <th></th>\n",
       "      <th></th>\n",
       "      <th></th>\n",
       "      <th></th>\n",
       "    </tr>\n",
       "  </thead>\n",
       "  <tbody>\n",
       "    <tr>\n",
       "      <th>2022-01-01</th>\n",
       "      <td>88237B34DAFDB069</td>\n",
       "      <td>electric_bike</td>\n",
       "      <td>2022-01-01 00:00:13.532</td>\n",
       "      <td>2022-01-01 00:30:28.482</td>\n",
       "      <td>Broadway &amp; W 160 St</td>\n",
       "      <td>8157.06</td>\n",
       "      <td>Broadway &amp; W 160 St</td>\n",
       "      <td>8157.06</td>\n",
       "      <td>40.835773</td>\n",
       "      <td>-73.943398</td>\n",
       "      <td>40.835773</td>\n",
       "      <td>-73.943398</td>\n",
       "      <td>casual</td>\n",
       "      <td>11.6</td>\n",
       "      <td>20198</td>\n",
       "      <td>30.249167</td>\n",
       "    </tr>\n",
       "    <tr>\n",
       "      <th>2022-01-01</th>\n",
       "      <td>4545E384F601A7E9</td>\n",
       "      <td>classic_bike</td>\n",
       "      <td>2022-01-01 00:00:32.146</td>\n",
       "      <td>2022-01-01 00:02:15.504</td>\n",
       "      <td>Forsyth St &amp; Broome St</td>\n",
       "      <td>5453.05</td>\n",
       "      <td>Forsyth St &amp; Broome St</td>\n",
       "      <td>5453.05</td>\n",
       "      <td>40.718941</td>\n",
       "      <td>-73.992661</td>\n",
       "      <td>40.718941</td>\n",
       "      <td>-73.992661</td>\n",
       "      <td>member</td>\n",
       "      <td>11.6</td>\n",
       "      <td>20198</td>\n",
       "      <td>1.722633</td>\n",
       "    </tr>\n",
       "    <tr>\n",
       "      <th>2022-01-01</th>\n",
       "      <td>7CE9B56332A37463</td>\n",
       "      <td>electric_bike</td>\n",
       "      <td>2022-01-01 00:00:42.801</td>\n",
       "      <td>2022-01-01 00:11:38.969</td>\n",
       "      <td>Myrtle Ave &amp; Marcy Ave</td>\n",
       "      <td>4707.03</td>\n",
       "      <td>Willoughby St &amp; Fleet St</td>\n",
       "      <td>4628.05</td>\n",
       "      <td>40.695396</td>\n",
       "      <td>-73.949547</td>\n",
       "      <td>40.691967</td>\n",
       "      <td>-73.981300</td>\n",
       "      <td>member</td>\n",
       "      <td>11.6</td>\n",
       "      <td>20198</td>\n",
       "      <td>10.936133</td>\n",
       "    </tr>\n",
       "    <tr>\n",
       "      <th>2022-01-01</th>\n",
       "      <td>AEAF2FFEBB00845B</td>\n",
       "      <td>electric_bike</td>\n",
       "      <td>2022-01-01 00:00:50.604</td>\n",
       "      <td>2022-01-01 02:39:37.688</td>\n",
       "      <td>W 15 St &amp; 7 Ave</td>\n",
       "      <td>6030.06</td>\n",
       "      <td>W 33 St &amp; 7 Ave</td>\n",
       "      <td>6407.07</td>\n",
       "      <td>40.739357</td>\n",
       "      <td>-73.999321</td>\n",
       "      <td>40.750198</td>\n",
       "      <td>-73.990929</td>\n",
       "      <td>casual</td>\n",
       "      <td>11.6</td>\n",
       "      <td>20198</td>\n",
       "      <td>158.784733</td>\n",
       "    </tr>\n",
       "    <tr>\n",
       "      <th>2022-01-01</th>\n",
       "      <td>9B01074C8CABA851</td>\n",
       "      <td>classic_bike</td>\n",
       "      <td>2022-01-01 00:01:05.031</td>\n",
       "      <td>2022-01-01 00:11:53.032</td>\n",
       "      <td>W 15 St &amp; 7 Ave</td>\n",
       "      <td>6030.06</td>\n",
       "      <td>W 36 St &amp; 7 Ave</td>\n",
       "      <td>6483.06</td>\n",
       "      <td>40.739357</td>\n",
       "      <td>-73.999321</td>\n",
       "      <td>40.752148</td>\n",
       "      <td>-73.989540</td>\n",
       "      <td>member</td>\n",
       "      <td>11.6</td>\n",
       "      <td>20198</td>\n",
       "      <td>10.800017</td>\n",
       "    </tr>\n",
       "  </tbody>\n",
       "</table>\n",
       "</div>"
      ],
      "text/plain": [
       "                     ride_id  rideable_type              started_at  \\\n",
       "date                                                                  \n",
       "2022-01-01  88237B34DAFDB069  electric_bike 2022-01-01 00:00:13.532   \n",
       "2022-01-01  4545E384F601A7E9   classic_bike 2022-01-01 00:00:32.146   \n",
       "2022-01-01  7CE9B56332A37463  electric_bike 2022-01-01 00:00:42.801   \n",
       "2022-01-01  AEAF2FFEBB00845B  electric_bike 2022-01-01 00:00:50.604   \n",
       "2022-01-01  9B01074C8CABA851   classic_bike 2022-01-01 00:01:05.031   \n",
       "\n",
       "                          ended_at      start_station_name start_station_id  \\\n",
       "date                                                                          \n",
       "2022-01-01 2022-01-01 00:30:28.482     Broadway & W 160 St          8157.06   \n",
       "2022-01-01 2022-01-01 00:02:15.504  Forsyth St & Broome St          5453.05   \n",
       "2022-01-01 2022-01-01 00:11:38.969  Myrtle Ave & Marcy Ave          4707.03   \n",
       "2022-01-01 2022-01-01 02:39:37.688         W 15 St & 7 Ave          6030.06   \n",
       "2022-01-01 2022-01-01 00:11:53.032         W 15 St & 7 Ave          6030.06   \n",
       "\n",
       "                    end_station_name end_station_id  start_lat  start_lng  \\\n",
       "date                                                                        \n",
       "2022-01-01       Broadway & W 160 St        8157.06  40.835773 -73.943398   \n",
       "2022-01-01    Forsyth St & Broome St        5453.05  40.718941 -73.992661   \n",
       "2022-01-01  Willoughby St & Fleet St        4628.05  40.695396 -73.949547   \n",
       "2022-01-01           W 33 St & 7 Ave        6407.07  40.739357 -73.999321   \n",
       "2022-01-01           W 36 St & 7 Ave        6483.06  40.739357 -73.999321   \n",
       "\n",
       "              end_lat    end_lng member_casual  avgTemp  bike_rides_daily  \\\n",
       "date                                                                        \n",
       "2022-01-01  40.835773 -73.943398        casual     11.6             20198   \n",
       "2022-01-01  40.718941 -73.992661        member     11.6             20198   \n",
       "2022-01-01  40.691967 -73.981300        member     11.6             20198   \n",
       "2022-01-01  40.750198 -73.990929        casual     11.6             20198   \n",
       "2022-01-01  40.752148 -73.989540        member     11.6             20198   \n",
       "\n",
       "            trip_duration  \n",
       "date                       \n",
       "2022-01-01      30.249167  \n",
       "2022-01-01       1.722633  \n",
       "2022-01-01      10.936133  \n",
       "2022-01-01     158.784733  \n",
       "2022-01-01      10.800017  "
      ]
     },
     "execution_count": 7,
     "metadata": {},
     "output_type": "execute_result"
    }
   ],
   "source": [
    "df.head()"
   ]
  },
  {
   "cell_type": "code",
   "execution_count": 8,
   "id": "907b77ec-c1d5-4fe1-9ee2-5859d3287294",
   "metadata": {},
   "outputs": [
    {
     "data": {
      "text/plain": [
       "count    2.976792e+07\n",
       "mean     1.601799e+01\n",
       "std      2.473200e+02\n",
       "min      1.000233e+00\n",
       "25%      5.788833e+00\n",
       "50%      1.013913e+01\n",
       "75%      1.792080e+01\n",
       "max      4.044810e+05\n",
       "Name: trip_duration, dtype: float64"
      ]
     },
     "execution_count": 8,
     "metadata": {},
     "output_type": "execute_result"
    }
   ],
   "source": [
    "# Get summary statistics\n",
    "\n",
    "df['trip_duration'].describe()"
   ]
  },
  {
   "cell_type": "markdown",
   "id": "81b9563c-334d-451d-9892-bfe7a5fd6e0c",
   "metadata": {},
   "source": [
    "**Summary Statistics**\n",
    "- **Median:** 10.14 minutes\n",
    "- **Mean:** 16 minutes\n",
    "  - With the mean greater than the median, this suggests a **right-skewed distribution** meaning most users take short trips and a small number of long-duration trips are pulling the mean upwards.\n",
    "- **Maximum trip** was ~281 days.\n",
    "  - This record should be excluded from the analysis, assuming the bike was not properly returned.\n",
    "- **Standard Deviation:** 247 minutes.\n",
    "  - This means there is **high variation** in trip durations\n",
    "  - Some users take very long trips, and others use the bikes briefly.\n",
    "---\n",
    "**Takeaway**\n",
    "- Longer bike trips should be removed when creating a histogram."
   ]
  },
  {
   "cell_type": "code",
   "execution_count": 9,
   "id": "a8f00e87-d6fe-426a-9763-4104ee2b8b8d",
   "metadata": {},
   "outputs": [
    {
     "name": "stdout",
     "output_type": "stream",
     "text": [
      "Seaborn Version: 0.13.2\n"
     ]
    }
   ],
   "source": [
    "# Import Seaborn Library\n",
    "\n",
    "import seaborn as sns\n",
    "\n",
    "print(\"Seaborn Version:\", sns.__version__)"
   ]
  },
  {
   "cell_type": "code",
   "execution_count": 10,
   "id": "433ef640-f29d-4cd6-bbe8-57da7256bf5b",
   "metadata": {},
   "outputs": [
    {
     "data": {
      "image/png": "[encoded data removed]",
      "text/plain": [
       "<Figure size 1000x600 with 1 Axes>"
      ]
     },
     "metadata": {},
     "output_type": "display_data"
    },
    {
     "name": "stdout",
     "output_type": "stream",
     "text": [
      "✅ Figure saved successfully to: C:\\Users\\HP\\Citi_Bike_Dashboard\\04 Analysis\\Visualizations\\trip_duration_histogram.png\n"
     ]
    }
   ],
   "source": [
    "import os\n",
    "\n",
    "# Define the file path for saving the histogram\n",
    "# Ensures that the visualization is stored for reporting or further analysis\n",
    "save_path = r\"C:\\Users\\HP\\Citi_Bike_Dashboard\\04 Analysis\\Visualizations\\trip_duration_histogram.png\"\n",
    "\n",
    "# Define an upper limit to filter out extreme outliers\n",
    "# Trips longer than 2 hours (120 minutes) are considered unrealistic and excluded from the analysis\n",
    "upper_limit = 120  \n",
    "\n",
    "# Filter the dataset to include only valid trip durations\n",
    "# This removes trips that exceed the defined upper limit\n",
    "filtered_data = df[df['trip_duration'] <= upper_limit]['trip_duration']\n",
    "\n",
    "# Set the figure size for improved visualization clarity\n",
    "plt.figure(figsize=(10, 6))\n",
    "\n",
    "# Create a histogram with a Kernel Density Estimate (KDE) curve\n",
    "# - Bins: 40 (adjustable for better granularity)\n",
    "# - KDE: Adds a smooth probability distribution curve for better trend visibility\n",
    "# - Color: Uses 'royalblue' for a visually appealing output\n",
    "sns.histplot(filtered_data, bins=40, kde=True, color='royalblue')\n",
    "\n",
    "# Label axes and set the title\n",
    "plt.xlabel(\"Trip Duration (minutes)\", fontsize=12)  # X-axis label\n",
    "plt.ylabel(\"Frequency\", fontsize=12)  # Y-axis label\n",
    "plt.title(\"Distribution of Trip Duration (Filtered for Outliers)\", fontsize=14) # Title\n",
    "\n",
    "# Save the figure before displaying it\n",
    "# - Format: PNG (high-quality image format)\n",
    "# - DPI: 300 (ensures a high-resolution image for presentations)\n",
    "# - bbox_inches='tight' (removes unnecessary padding around the plot)\n",
    "plt.savefig(save_path, format='png', dpi=300, bbox_inches='tight')\n",
    "\n",
    "# Display the plot\n",
    "plt.show()\n",
    "\n",
    "# Confirm that the file was successfully saved\n",
    "print(f\"✅ Figure saved successfully to: {save_path}\")"
   ]
  },
  {
   "cell_type": "markdown",
   "id": "3983f343-2259-4190-85ea-1a941dcf7b99",
   "metadata": {},
   "source": [
    "**Code Explanation**\n",
    "1. **Filtering Outliers**\n",
    "- The dataset includes unrealistic trip durations, and removing them will prevent distorted visuals.\n",
    "2. **Histogram with KDE**\n",
    "- KDE smooths out the histogram by helping interpret trend more clearly than a raw histogram alone.\n",
    "3. **Custom labels, titles, & legend**\n",
    "- These provide a clear description so the audience understands what the chart represents at a glance."
   ]
  },
  {
   "cell_type": "markdown",
   "id": "91a59c42-599b-4bed-81d9-44b1c745cd43",
   "metadata": {},
   "source": [
    "### 07. Dataset Export"
   ]
  },
  {
   "cell_type": "code",
   "execution_count": 11,
   "id": "11e66e82-488c-474d-abc7-74292e8c72b8",
   "metadata": {},
   "outputs": [
    {
     "data": {
      "text/html": [
       "<div>\n",
       "<style scoped>\n",
       "    .dataframe tbody tr th:only-of-type {\n",
       "        vertical-align: middle;\n",
       "    }\n",
       "\n",
       "    .dataframe tbody tr th {\n",
       "        vertical-align: top;\n",
       "    }\n",
       "\n",
       "    .dataframe thead th {\n",
       "        text-align: right;\n",
       "    }\n",
       "</style>\n",
       "<table border=\"1\" class=\"dataframe\">\n",
       "  <thead>\n",
       "    <tr style=\"text-align: right;\">\n",
       "      <th></th>\n",
       "      <th>ride_id</th>\n",
       "      <th>rideable_type</th>\n",
       "      <th>started_at</th>\n",
       "      <th>ended_at</th>\n",
       "      <th>start_station_name</th>\n",
       "      <th>start_station_id</th>\n",
       "      <th>end_station_name</th>\n",
       "      <th>end_station_id</th>\n",
       "      <th>start_lat</th>\n",
       "      <th>start_lng</th>\n",
       "      <th>end_lat</th>\n",
       "      <th>end_lng</th>\n",
       "      <th>member_casual</th>\n",
       "      <th>avgTemp</th>\n",
       "      <th>bike_rides_daily</th>\n",
       "      <th>trip_duration</th>\n",
       "    </tr>\n",
       "    <tr>\n",
       "      <th>date</th>\n",
       "      <th></th>\n",
       "      <th></th>\n",
       "      <th></th>\n",
       "      <th></th>\n",
       "      <th></th>\n",
       "      <th></th>\n",
       "      <th></th>\n",
       "      <th></th>\n",
       "      <th></th>\n",
       "      <th></th>\n",
       "      <th></th>\n",
       "      <th></th>\n",
       "      <th></th>\n",
       "      <th></th>\n",
       "      <th></th>\n",
       "      <th></th>\n",
       "    </tr>\n",
       "  </thead>\n",
       "  <tbody>\n",
       "    <tr>\n",
       "      <th>2022-01-01</th>\n",
       "      <td>88237B34DAFDB069</td>\n",
       "      <td>electric_bike</td>\n",
       "      <td>2022-01-01 00:00:13.532</td>\n",
       "      <td>2022-01-01 00:30:28.482</td>\n",
       "      <td>Broadway &amp; W 160 St</td>\n",
       "      <td>8157.06</td>\n",
       "      <td>Broadway &amp; W 160 St</td>\n",
       "      <td>8157.06</td>\n",
       "      <td>40.835773</td>\n",
       "      <td>-73.943398</td>\n",
       "      <td>40.835773</td>\n",
       "      <td>-73.943398</td>\n",
       "      <td>casual</td>\n",
       "      <td>11.6</td>\n",
       "      <td>20198</td>\n",
       "      <td>30.249167</td>\n",
       "    </tr>\n",
       "    <tr>\n",
       "      <th>2022-01-01</th>\n",
       "      <td>4545E384F601A7E9</td>\n",
       "      <td>classic_bike</td>\n",
       "      <td>2022-01-01 00:00:32.146</td>\n",
       "      <td>2022-01-01 00:02:15.504</td>\n",
       "      <td>Forsyth St &amp; Broome St</td>\n",
       "      <td>5453.05</td>\n",
       "      <td>Forsyth St &amp; Broome St</td>\n",
       "      <td>5453.05</td>\n",
       "      <td>40.718941</td>\n",
       "      <td>-73.992661</td>\n",
       "      <td>40.718941</td>\n",
       "      <td>-73.992661</td>\n",
       "      <td>member</td>\n",
       "      <td>11.6</td>\n",
       "      <td>20198</td>\n",
       "      <td>1.722633</td>\n",
       "    </tr>\n",
       "    <tr>\n",
       "      <th>2022-01-01</th>\n",
       "      <td>7CE9B56332A37463</td>\n",
       "      <td>electric_bike</td>\n",
       "      <td>2022-01-01 00:00:42.801</td>\n",
       "      <td>2022-01-01 00:11:38.969</td>\n",
       "      <td>Myrtle Ave &amp; Marcy Ave</td>\n",
       "      <td>4707.03</td>\n",
       "      <td>Willoughby St &amp; Fleet St</td>\n",
       "      <td>4628.05</td>\n",
       "      <td>40.695396</td>\n",
       "      <td>-73.949547</td>\n",
       "      <td>40.691967</td>\n",
       "      <td>-73.981300</td>\n",
       "      <td>member</td>\n",
       "      <td>11.6</td>\n",
       "      <td>20198</td>\n",
       "      <td>10.936133</td>\n",
       "    </tr>\n",
       "    <tr>\n",
       "      <th>2022-01-01</th>\n",
       "      <td>AEAF2FFEBB00845B</td>\n",
       "      <td>electric_bike</td>\n",
       "      <td>2022-01-01 00:00:50.604</td>\n",
       "      <td>2022-01-01 02:39:37.688</td>\n",
       "      <td>W 15 St &amp; 7 Ave</td>\n",
       "      <td>6030.06</td>\n",
       "      <td>W 33 St &amp; 7 Ave</td>\n",
       "      <td>6407.07</td>\n",
       "      <td>40.739357</td>\n",
       "      <td>-73.999321</td>\n",
       "      <td>40.750198</td>\n",
       "      <td>-73.990929</td>\n",
       "      <td>casual</td>\n",
       "      <td>11.6</td>\n",
       "      <td>20198</td>\n",
       "      <td>158.784733</td>\n",
       "    </tr>\n",
       "    <tr>\n",
       "      <th>2022-01-01</th>\n",
       "      <td>9B01074C8CABA851</td>\n",
       "      <td>classic_bike</td>\n",
       "      <td>2022-01-01 00:01:05.031</td>\n",
       "      <td>2022-01-01 00:11:53.032</td>\n",
       "      <td>W 15 St &amp; 7 Ave</td>\n",
       "      <td>6030.06</td>\n",
       "      <td>W 36 St &amp; 7 Ave</td>\n",
       "      <td>6483.06</td>\n",
       "      <td>40.739357</td>\n",
       "      <td>-73.999321</td>\n",
       "      <td>40.752148</td>\n",
       "      <td>-73.989540</td>\n",
       "      <td>member</td>\n",
       "      <td>11.6</td>\n",
       "      <td>20198</td>\n",
       "      <td>10.800017</td>\n",
       "    </tr>\n",
       "  </tbody>\n",
       "</table>\n",
       "</div>"
      ],
      "text/plain": [
       "                     ride_id  rideable_type              started_at  \\\n",
       "date                                                                  \n",
       "2022-01-01  88237B34DAFDB069  electric_bike 2022-01-01 00:00:13.532   \n",
       "2022-01-01  4545E384F601A7E9   classic_bike 2022-01-01 00:00:32.146   \n",
       "2022-01-01  7CE9B56332A37463  electric_bike 2022-01-01 00:00:42.801   \n",
       "2022-01-01  AEAF2FFEBB00845B  electric_bike 2022-01-01 00:00:50.604   \n",
       "2022-01-01  9B01074C8CABA851   classic_bike 2022-01-01 00:01:05.031   \n",
       "\n",
       "                          ended_at      start_station_name start_station_id  \\\n",
       "date                                                                          \n",
       "2022-01-01 2022-01-01 00:30:28.482     Broadway & W 160 St          8157.06   \n",
       "2022-01-01 2022-01-01 00:02:15.504  Forsyth St & Broome St          5453.05   \n",
       "2022-01-01 2022-01-01 00:11:38.969  Myrtle Ave & Marcy Ave          4707.03   \n",
       "2022-01-01 2022-01-01 02:39:37.688         W 15 St & 7 Ave          6030.06   \n",
       "2022-01-01 2022-01-01 00:11:53.032         W 15 St & 7 Ave          6030.06   \n",
       "\n",
       "                    end_station_name end_station_id  start_lat  start_lng  \\\n",
       "date                                                                        \n",
       "2022-01-01       Broadway & W 160 St        8157.06  40.835773 -73.943398   \n",
       "2022-01-01    Forsyth St & Broome St        5453.05  40.718941 -73.992661   \n",
       "2022-01-01  Willoughby St & Fleet St        4628.05  40.695396 -73.949547   \n",
       "2022-01-01           W 33 St & 7 Ave        6407.07  40.739357 -73.999321   \n",
       "2022-01-01           W 36 St & 7 Ave        6483.06  40.739357 -73.999321   \n",
       "\n",
       "              end_lat    end_lng member_casual  avgTemp  bike_rides_daily  \\\n",
       "date                                                                        \n",
       "2022-01-01  40.835773 -73.943398        casual     11.6             20198   \n",
       "2022-01-01  40.718941 -73.992661        member     11.6             20198   \n",
       "2022-01-01  40.691967 -73.981300        member     11.6             20198   \n",
       "2022-01-01  40.750198 -73.990929        casual     11.6             20198   \n",
       "2022-01-01  40.752148 -73.989540        member     11.6             20198   \n",
       "\n",
       "            trip_duration  \n",
       "date                       \n",
       "2022-01-01      30.249167  \n",
       "2022-01-01       1.722633  \n",
       "2022-01-01      10.936133  \n",
       "2022-01-01     158.784733  \n",
       "2022-01-01      10.800017  "
      ]
     },
     "execution_count": 11,
     "metadata": {},
     "output_type": "execute_result"
    }
   ],
   "source": [
    "df.head()"
   ]
  },
  {
   "cell_type": "code",
   "execution_count": 12,
   "id": "0a412589-d5ff-4c81-a3b4-22557372e178",
   "metadata": {},
   "outputs": [
    {
     "data": {
      "text/plain": [
       "(29767925, 16)"
      ]
     },
     "execution_count": 12,
     "metadata": {},
     "output_type": "execute_result"
    }
   ],
   "source": [
    "df.shape"
   ]
  },
  {
   "cell_type": "code",
   "execution_count": 13,
   "id": "b7b23528-b521-443b-878e-099f7dd1af7c",
   "metadata": {},
   "outputs": [
    {
     "name": "stdout",
     "output_type": "stream",
     "text": [
      "Pickle file saved successfully!\n"
     ]
    }
   ],
   "source": [
    "# Define the file path for saving the pickle file\n",
    "pickle_path = r\"C:\\Users\\HP\\Citi_Bike_Dashboard\\02 Data\\Prepared Data\\newyork_data_cleaned_v3.pkl\"\n",
    "\n",
    "# Save the DataFrame as a pickle file\n",
    "df.to_pickle(pickle_path)\n",
    "\n",
    "print(\"Pickle file saved successfully!\")"
   ]
  },
  {
   "cell_type": "code",
   "execution_count": null,
   "id": "8b129517-ad3f-44d5-9b7a-b29c192fd1be",
   "metadata": {},
   "outputs": [],
   "source": []
  }
 ],
 "metadata": {
  "kernelspec": {
   "display_name": "Python [conda env:citi_env] *",
   "language": "python",
   "name": "conda-env-citi_env-py"
  },
  "language_info": {
   "codemirror_mode": {
    "name": "ipython",
    "version": 3
   },
   "file_extension": ".py",
   "mimetype": "text/x-python",
   "name": "python",
   "nbconvert_exporter": "python",
   "pygments_lexer": "ipython3",
   "version": "3.13.1"
  }
 },
 "nbformat": 4,
 "nbformat_minor": 5
}
