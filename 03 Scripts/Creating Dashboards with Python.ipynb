{
 "cells": [
  {
   "cell_type": "markdown",
   "id": "b35ca7db-6352-424e-8086-2db214e6fff6",
   "metadata": {},
   "source": [
    "# Table of Contents\n",
    "\n",
    "## 01. Library and Data Import\n",
    "## 02. Top 20 stations bar chart\n",
    "## 03. Bike Trips & Temperature Dual-Axis Line Chart\n",
    "## 04. Reducing the Dataset\n",
    "        Creating seasonal columns\n",
    "        Creating a random split for df_1"
   ]
  },
  {
   "cell_type": "markdown",
   "id": "93a9d2ba-8160-40a9-b94c-0937a8d7ae7a",
   "metadata": {},
   "source": [
    "### 01. Library and Data Import"
   ]
  },
  {
   "cell_type": "code",
   "execution_count": 1,
   "id": "11b7e8cc-08c2-4937-830a-d660ec9843fa",
   "metadata": {},
   "outputs": [],
   "source": [
    "# Streamlit: Main framework for creating interactive dashboards\n",
    "import streamlit as st\n",
    "\n",
    "# Data Handling: Pandas for data manipulation, NumPy for numerical operations\n",
    "import pandas as pd\n",
    "import numpy as np\n",
    "\n",
    "# Plotly for Interactive Visualizations\n",
    "import plotly.express as px  # High-level interface for Plotly visualizations\n",
    "from plotly.subplots import make_subplots  # Allows creating subplots\n",
    "import plotly.graph_objects as go  # Low-level interface for detailed chart customization\n",
    "\n",
    "# Matplotlib for Static Visualizations\n",
    "import matplotlib.pyplot as plt  # Used for additional plotting functionalities\n",
    "\n",
    "# Date and Time Handling\n",
    "from datetime import datetime as dt  # Helps with date and time manipulations\n",
    "\n",
    "# Kepler.gl for Interactive Geospatial Mapping in Streamlit\n",
    "from streamlit_keplergl import keplergl_static  # Allows embedding Kepler.gl maps in Streamlit"
   ]
  },
  {
   "cell_type": "code",
   "execution_count": 2,
   "id": "68578f89-0645-40d4-82fe-e86f2a69e769",
   "metadata": {},
   "outputs": [
    {
     "data": {
      "text/html": [
       "<div>\n",
       "<style scoped>\n",
       "    .dataframe tbody tr th:only-of-type {\n",
       "        vertical-align: middle;\n",
       "    }\n",
       "\n",
       "    .dataframe tbody tr th {\n",
       "        vertical-align: top;\n",
       "    }\n",
       "\n",
       "    .dataframe thead th {\n",
       "        text-align: right;\n",
       "    }\n",
       "</style>\n",
       "<table border=\"1\" class=\"dataframe\">\n",
       "  <thead>\n",
       "    <tr style=\"text-align: right;\">\n",
       "      <th></th>\n",
       "      <th>ride_id</th>\n",
       "      <th>rideable_type</th>\n",
       "      <th>started_at</th>\n",
       "      <th>ended_at</th>\n",
       "      <th>start_station_name</th>\n",
       "      <th>start_station_id</th>\n",
       "      <th>end_station_name</th>\n",
       "      <th>end_station_id</th>\n",
       "      <th>start_lat</th>\n",
       "      <th>start_lng</th>\n",
       "      <th>end_lat</th>\n",
       "      <th>end_lng</th>\n",
       "      <th>member_casual</th>\n",
       "      <th>avgTemp</th>\n",
       "      <th>bike_rides_daily</th>\n",
       "      <th>trip_duration</th>\n",
       "    </tr>\n",
       "    <tr>\n",
       "      <th>date</th>\n",
       "      <th></th>\n",
       "      <th></th>\n",
       "      <th></th>\n",
       "      <th></th>\n",
       "      <th></th>\n",
       "      <th></th>\n",
       "      <th></th>\n",
       "      <th></th>\n",
       "      <th></th>\n",
       "      <th></th>\n",
       "      <th></th>\n",
       "      <th></th>\n",
       "      <th></th>\n",
       "      <th></th>\n",
       "      <th></th>\n",
       "      <th></th>\n",
       "    </tr>\n",
       "  </thead>\n",
       "  <tbody>\n",
       "    <tr>\n",
       "      <th>2022-01-01</th>\n",
       "      <td>88237B34DAFDB069</td>\n",
       "      <td>electric_bike</td>\n",
       "      <td>2022-01-01 00:00:13.532</td>\n",
       "      <td>2022-01-01 00:30:28.482</td>\n",
       "      <td>Broadway &amp; W 160 St</td>\n",
       "      <td>8157.06</td>\n",
       "      <td>Broadway &amp; W 160 St</td>\n",
       "      <td>8157.06</td>\n",
       "      <td>40.835773</td>\n",
       "      <td>-73.943398</td>\n",
       "      <td>40.835773</td>\n",
       "      <td>-73.943398</td>\n",
       "      <td>casual</td>\n",
       "      <td>11.6</td>\n",
       "      <td>20198</td>\n",
       "      <td>30.249167</td>\n",
       "    </tr>\n",
       "    <tr>\n",
       "      <th>2022-01-01</th>\n",
       "      <td>4545E384F601A7E9</td>\n",
       "      <td>classic_bike</td>\n",
       "      <td>2022-01-01 00:00:32.146</td>\n",
       "      <td>2022-01-01 00:02:15.504</td>\n",
       "      <td>Forsyth St &amp; Broome St</td>\n",
       "      <td>5453.05</td>\n",
       "      <td>Forsyth St &amp; Broome St</td>\n",
       "      <td>5453.05</td>\n",
       "      <td>40.718941</td>\n",
       "      <td>-73.992661</td>\n",
       "      <td>40.718941</td>\n",
       "      <td>-73.992661</td>\n",
       "      <td>member</td>\n",
       "      <td>11.6</td>\n",
       "      <td>20198</td>\n",
       "      <td>1.722633</td>\n",
       "    </tr>\n",
       "    <tr>\n",
       "      <th>2022-01-01</th>\n",
       "      <td>7CE9B56332A37463</td>\n",
       "      <td>electric_bike</td>\n",
       "      <td>2022-01-01 00:00:42.801</td>\n",
       "      <td>2022-01-01 00:11:38.969</td>\n",
       "      <td>Myrtle Ave &amp; Marcy Ave</td>\n",
       "      <td>4707.03</td>\n",
       "      <td>Willoughby St &amp; Fleet St</td>\n",
       "      <td>4628.05</td>\n",
       "      <td>40.695396</td>\n",
       "      <td>-73.949547</td>\n",
       "      <td>40.691967</td>\n",
       "      <td>-73.981300</td>\n",
       "      <td>member</td>\n",
       "      <td>11.6</td>\n",
       "      <td>20198</td>\n",
       "      <td>10.936133</td>\n",
       "    </tr>\n",
       "    <tr>\n",
       "      <th>2022-01-01</th>\n",
       "      <td>AEAF2FFEBB00845B</td>\n",
       "      <td>electric_bike</td>\n",
       "      <td>2022-01-01 00:00:50.604</td>\n",
       "      <td>2022-01-01 02:39:37.688</td>\n",
       "      <td>W 15 St &amp; 7 Ave</td>\n",
       "      <td>6030.06</td>\n",
       "      <td>W 33 St &amp; 7 Ave</td>\n",
       "      <td>6407.07</td>\n",
       "      <td>40.739357</td>\n",
       "      <td>-73.999321</td>\n",
       "      <td>40.750198</td>\n",
       "      <td>-73.990929</td>\n",
       "      <td>casual</td>\n",
       "      <td>11.6</td>\n",
       "      <td>20198</td>\n",
       "      <td>158.784733</td>\n",
       "    </tr>\n",
       "    <tr>\n",
       "      <th>2022-01-01</th>\n",
       "      <td>9B01074C8CABA851</td>\n",
       "      <td>classic_bike</td>\n",
       "      <td>2022-01-01 00:01:05.031</td>\n",
       "      <td>2022-01-01 00:11:53.032</td>\n",
       "      <td>W 15 St &amp; 7 Ave</td>\n",
       "      <td>6030.06</td>\n",
       "      <td>W 36 St &amp; 7 Ave</td>\n",
       "      <td>6483.06</td>\n",
       "      <td>40.739357</td>\n",
       "      <td>-73.999321</td>\n",
       "      <td>40.752148</td>\n",
       "      <td>-73.989540</td>\n",
       "      <td>member</td>\n",
       "      <td>11.6</td>\n",
       "      <td>20198</td>\n",
       "      <td>10.800017</td>\n",
       "    </tr>\n",
       "  </tbody>\n",
       "</table>\n",
       "</div>"
      ],
      "text/plain": [
       "                     ride_id  rideable_type              started_at  \\\n",
       "date                                                                  \n",
       "2022-01-01  88237B34DAFDB069  electric_bike 2022-01-01 00:00:13.532   \n",
       "2022-01-01  4545E384F601A7E9   classic_bike 2022-01-01 00:00:32.146   \n",
       "2022-01-01  7CE9B56332A37463  electric_bike 2022-01-01 00:00:42.801   \n",
       "2022-01-01  AEAF2FFEBB00845B  electric_bike 2022-01-01 00:00:50.604   \n",
       "2022-01-01  9B01074C8CABA851   classic_bike 2022-01-01 00:01:05.031   \n",
       "\n",
       "                          ended_at      start_station_name start_station_id  \\\n",
       "date                                                                          \n",
       "2022-01-01 2022-01-01 00:30:28.482     Broadway & W 160 St          8157.06   \n",
       "2022-01-01 2022-01-01 00:02:15.504  Forsyth St & Broome St          5453.05   \n",
       "2022-01-01 2022-01-01 00:11:38.969  Myrtle Ave & Marcy Ave          4707.03   \n",
       "2022-01-01 2022-01-01 02:39:37.688         W 15 St & 7 Ave          6030.06   \n",
       "2022-01-01 2022-01-01 00:11:53.032         W 15 St & 7 Ave          6030.06   \n",
       "\n",
       "                    end_station_name end_station_id  start_lat  start_lng  \\\n",
       "date                                                                        \n",
       "2022-01-01       Broadway & W 160 St        8157.06  40.835773 -73.943398   \n",
       "2022-01-01    Forsyth St & Broome St        5453.05  40.718941 -73.992661   \n",
       "2022-01-01  Willoughby St & Fleet St        4628.05  40.695396 -73.949547   \n",
       "2022-01-01           W 33 St & 7 Ave        6407.07  40.739357 -73.999321   \n",
       "2022-01-01           W 36 St & 7 Ave        6483.06  40.739357 -73.999321   \n",
       "\n",
       "              end_lat    end_lng member_casual  avgTemp  bike_rides_daily  \\\n",
       "date                                                                        \n",
       "2022-01-01  40.835773 -73.943398        casual     11.6             20198   \n",
       "2022-01-01  40.718941 -73.992661        member     11.6             20198   \n",
       "2022-01-01  40.691967 -73.981300        member     11.6             20198   \n",
       "2022-01-01  40.750198 -73.990929        casual     11.6             20198   \n",
       "2022-01-01  40.752148 -73.989540        member     11.6             20198   \n",
       "\n",
       "            trip_duration  \n",
       "date                       \n",
       "2022-01-01      30.249167  \n",
       "2022-01-01       1.722633  \n",
       "2022-01-01      10.936133  \n",
       "2022-01-01     158.784733  \n",
       "2022-01-01      10.800017  "
      ]
     },
     "execution_count": 2,
     "metadata": {},
     "output_type": "execute_result"
    }
   ],
   "source": [
    "# Define the file path for the 'newyork_data_cleaned_v3.pkl' dataset\n",
    "file_path = r\"C:\\Users\\HP\\Citi_Bike_Dashboard\\02 Data\\Prepared Data\\newyork_data_cleaned_v3.pkl\"\n",
    "\n",
    "# Load the dataset into a Pandas DataFrame\n",
    "df = pd.read_pickle(file_path)\n",
    "\n",
    "# Display the first few rows to confirm successful loading (optional)\n",
    "df.head()"
   ]
  },
  {
   "cell_type": "code",
   "execution_count": 3,
   "id": "c980079f-8170-47c7-81cc-73c5ff7dcd16",
   "metadata": {},
   "outputs": [],
   "source": [
    "# Resetting the index\n",
    "df = df.reset_index().rename(columns={\"index\": \"date\"})"
   ]
  },
  {
   "cell_type": "code",
   "execution_count": 4,
   "id": "f5f7a7ac-05d2-4cc4-a5c1-454136ee3a64",
   "metadata": {},
   "outputs": [
    {
     "data": {
      "text/plain": [
       "(29767925, 17)"
      ]
     },
     "execution_count": 4,
     "metadata": {},
     "output_type": "execute_result"
    }
   ],
   "source": [
    "# Review the shape of the dataset\n",
    "df.shape"
   ]
  },
  {
   "cell_type": "markdown",
   "id": "f119bb0a-97fe-42c1-abc5-2a7b8fb72c7c",
   "metadata": {},
   "source": [
    "## 02. Top 20 stations bar chart"
   ]
  },
  {
   "cell_type": "code",
   "execution_count": 7,
   "id": "2381507f-ff05-435e-b43e-867b33ff57d4",
   "metadata": {},
   "outputs": [],
   "source": [
    "# The code below will minimize data size when loading `df` into the browser\n",
    "\n",
    "# Convert 'date' column to datetime format\n",
    "df['date'] = pd.to_datetime(df['date'], format=\"%Y-%m-%d\", errors='coerce')  \n",
    "# 'errors=\"coerce\"' converts invalid dates into NaT instead of throwing an error"
   ]
  },
  {
   "cell_type": "code",
   "execution_count": 8,
   "id": "cc8dba80-a8d2-4cb4-ba83-de44315a829d",
   "metadata": {},
   "outputs": [],
   "source": [
    "# Create a new column to count each row\n",
    "df['value'] = 1  # Assigns '1' to each row, enabling trip count aggregation\n",
    "\n",
    "# Group data by 'start_station_name' and sum the trip counts\n",
    "df_groupby_bar = df.groupby('start_station_name', as_index=False, observed=False).agg({'value': 'sum'})\n",
    "# Explicitly set observed=False to retain current behavior and prevent the warning\n",
    "\n",
    "# Select the top 20 stations with the highest trip counts\n",
    "top20 = df_groupby_bar.nlargest(20, 'value')  \n",
    "# Retrieves the 20 most popular bike stations based on trip volume"
   ]
  },
  {
   "cell_type": "code",
   "execution_count": null,
   "id": "87843999-8afd-42cb-b635-eb966f0c689e",
   "metadata": {},
   "outputs": [],
   "source": [
    "# Create a bar chart\n",
    "\n",
    "fig = go.Figure(\n",
    "    go.Bar(\n",
    "        x=top20['start_station_name'],  # X-axis: Station names\n",
    "        y=top20['value'],  # Y-axis: Number of trips\n",
    "        marker={'color': top20['value'], 'colorscale': 'Blues'}  # Apply color scale\n",
    "    )\n",
    ")\n",
    "\n",
    "# Update the layout with correct x-axis title spacing\n",
    "fig.update_layout(\n",
    "    title=\"Top 20 most popular bike stations in New York City\",  # Chart title\n",
    "    xaxis=dict(\n",
    "        title=dict(\n",
    "            text=\"Start Stations\",  # X-axis title\n",
    "            standoff=20  # Adds space between x-axis title and tick labels\n",
    "        ),\n",
    "        tickangle=-45  # Rotates x-axis labels to avoid overlap\n",
    "    ),\n",
    "    yaxis_title=\"Sum of trips\",  # Y-axis title\n",
    "    width=900, \n",
    "    height=600\n",
    ")\n",
    "\n",
    "# Display the figure\n",
    "fig.show()"
   ]
  },
  {
   "cell_type": "code",
   "execution_count": 9,
   "id": "6535a553-de1e-4639-aff4-b9c443b6af21",
   "metadata": {},
   "outputs": [],
   "source": [
    "# Save the top 20 stations as a csv file \n",
    "\n",
    "top20.to_csv('top20.csv')"
   ]
  },
  {
   "cell_type": "markdown",
   "id": "f8595b04-6876-4568-b08b-89f50232712c",
   "metadata": {},
   "source": [
    "### 03. Bike Trips & Temperature Dual-Axis Line Chart"
   ]
  },
  {
   "cell_type": "code",
   "execution_count": null,
   "id": "de4cdd3b-55de-4a81-982e-630cc8cb3b03",
   "metadata": {},
   "outputs": [],
   "source": [
    "# Create a figure with a secondary Y-axis\n",
    "fig_2 = make_subplots(specs=[[{\"secondary_y\": True}]])\n",
    "\n",
    "# Add first trace: Line chart for daily bike rides (Primary Y-axis)\n",
    "fig_2.add_trace(\n",
    "    go.Scatter(\n",
    "        x=df['date'],  # X-axis: Date\n",
    "        y=df['bike_rides_daily'],  # Y-axis: Number of bike rides\n",
    "        name='Daily bike rides',  # Legend label\n",
    "        marker={'color': df['bike_rides_daily'],'color': 'blue'}), # Apply color scale \n",
    "    ),\n",
    "    secondary_y=False  # Assign to primary Y-axis\n",
    ")\n",
    "\n",
    "# Add second trace: Line chart for daily temperature (Secondary Y-axis)\n",
    "fig_2.add_trace(\n",
    "    go.Scatter(\n",
    "        x=df['date'],  # X-axis: Date\n",
    "        y=df['avgTemp'],  # Y-axis: Average daily temperature\n",
    "        name='Daily temperature',  # Legend label\n",
    "        marker={'color': df['avgTemp'],'color': 'red'}), # Apply color scale\n",
    "    ),\n",
    "    secondary_y=True  # Assign to secondary Y-axis\n",
    ")\n",
    "\n",
    "fig_2.update_layout(\n",
    "    title = 'Daily bike trips and temperatures in 2022',\n",
    "    height = 600\n",
    ")\n",
    "\n",
    "st.plotly_chart(fig_2, use_container_width=True)"
   ]
  },
  {
   "cell_type": "markdown",
   "id": "d2fa2a7c-4dbc-4936-bfe6-fe0b9b6e4613",
   "metadata": {},
   "source": [
    "### 04. Reducing the Dataset"
   ]
  },
  {
   "cell_type": "markdown",
   "id": "d43eb0a8-596b-4b67-ad4b-9c81b808ff92",
   "metadata": {},
   "source": [
    "#### Creating seasonal columns"
   ]
  },
  {
   "cell_type": "code",
   "execution_count": null,
   "id": "9792511c-6ede-4534-bfa6-1183c2723ca7",
   "metadata": {},
   "outputs": [],
   "source": [
    "# # Creating a `month` column\n",
    "\n",
    "# # Convert the 'date' column to a DateTime format\n",
    "# df['date'] = pd.to_datetime(df['date'], format='%Y-%m-%d')\n",
    "\n",
    "# # Extract the month from the 'date' column and create a new 'month' column\n",
    "# df['month'] = df['date'].dt.month\n",
    "\n",
    "# # Ensure the 'month' column is stored as an integer type\n",
    "# df['month'] = df['month'].astype(int)"
   ]
  },
  {
   "cell_type": "code",
   "execution_count": null,
   "id": "5755ace3-3281-47c3-9309-b4f268267c66",
   "metadata": {},
   "outputs": [],
   "source": [
    "# # Create the 'season' column based on the 'month' column\n",
    "\n",
    "# df['season'] = [\n",
    "#     \"winter\" if (month == 12 or 1 <= month <= 4)  # December to April → Winter\n",
    "#     else \"spring\" if (4 < month <= 5)  # May → Spring\n",
    "#     else \"summer\" if (6 <= month <= 9)  # June to September → Summer\n",
    "#     else \"fall\"  # October & November → Fall\n",
    "#     for month in df['month']  # Iterate over each value in the 'month' column\n",
    "# ]"
   ]
  },
  {
   "cell_type": "code",
   "execution_count": 4,
   "id": "64123775-e96d-4d3a-8e1f-5f2e20d7cb88",
   "metadata": {},
   "outputs": [
    {
     "data": {
      "text/plain": [
       "Index(['date', 'ride_id', 'rideable_type', 'started_at', 'ended_at',\n",
       "       'start_station_name', 'start_station_id', 'end_station_name',\n",
       "       'end_station_id', 'start_lat', 'start_lng', 'end_lat', 'end_lng',\n",
       "       'member_casual', 'avgTemp', 'bike_rides_daily', 'trip_duration'],\n",
       "      dtype='object')"
      ]
     },
     "execution_count": 4,
     "metadata": {},
     "output_type": "execute_result"
    }
   ],
   "source": [
    "# Viewing the columns\n",
    "df.columns"
   ]
  },
  {
   "cell_type": "code",
   "execution_count": 5,
   "id": "51f93253-e148-4d07-8efe-8e40c7685f8d",
   "metadata": {},
   "outputs": [],
   "source": [
    "# Create a copy with fewer columns\n",
    "\n",
    "df_1 = df.drop(columns = {'ride_id', 'rideable_type', 'started_at', 'ended_at',\n",
    "       'start_station_name', 'start_station_id', 'end_station_name',\n",
    "       'end_station_id', 'start_lat', 'start_lng', 'end_lat', 'end_lng',\n",
    "       'member_casual', 'trip_duration'})"
   ]
  },
  {
   "cell_type": "code",
   "execution_count": 6,
   "id": "0534df81-b09d-4e26-bc34-8ca8e40efd2f",
   "metadata": {},
   "outputs": [
    {
     "data": {
      "text/plain": [
       "Index(['date', 'avgTemp', 'bike_rides_daily'], dtype='object')"
      ]
     },
     "execution_count": 6,
     "metadata": {},
     "output_type": "execute_result"
    }
   ],
   "source": [
    "df_1.columns"
   ]
  },
  {
   "cell_type": "markdown",
   "id": "446781f9-8d91-48a4-862c-50278a7359cf",
   "metadata": {},
   "source": [
    "#### Creating a random split for df_1"
   ]
  },
  {
   "cell_type": "code",
   "execution_count": 7,
   "id": "473e0db1-8dcc-4580-97d9-d1cf3663c696",
   "metadata": {},
   "outputs": [],
   "source": [
    "# Set the random seed to ensure reproducibility of results\n",
    "np.random.seed(32)\n",
    "\n",
    "# Generate an array of random values between 0 and 1 (one value per row in df_1)\n",
    "# Then, create a boolean mask where ~75% of the values are True and ~25% are False\n",
    "# I had to lower this from 92 > 75 due to the large dataset having difficulty loading via Streamlit\n",
    "red = np.random.rand(len(df_1)) <= 0.75"
   ]
  },
  {
   "cell_type": "code",
   "execution_count": 8,
   "id": "607253ed-abce-40bd-b0cf-70b114abfc32",
   "metadata": {},
   "outputs": [],
   "source": [
    "# Use the boolean mask 'red' to filter df_1 and create a smaller dataset\n",
    "# '~red' inverts the mask, selecting the ~25% of rows that were marked as False\n",
    "small = df_1[~red]"
   ]
  },
  {
   "cell_type": "code",
   "execution_count": 9,
   "id": "1ead5589-1cc3-4a2c-af84-b585c10f1d79",
   "metadata": {},
   "outputs": [
    {
     "data": {
      "text/plain": [
       "(7441694, 3)"
      ]
     },
     "execution_count": 9,
     "metadata": {},
     "output_type": "execute_result"
    }
   ],
   "source": [
    "small.shape"
   ]
  },
  {
   "cell_type": "code",
   "execution_count": 10,
   "id": "8e0e382a-44c9-45f5-a484-3821dda6776d",
   "metadata": {},
   "outputs": [],
   "source": [
    "small.to_csv('reduced_data_lect_2.6.csv',index = False)"
   ]
  },
  {
   "cell_type": "code",
   "execution_count": 11,
   "id": "27f5fd8c-638d-4fb3-8d1c-c7dc59c871ef",
   "metadata": {},
   "outputs": [],
   "source": [
    "df_1.to_csv('reduced_data_to_plot_2.6.csv')"
   ]
  },
  {
   "cell_type": "code",
   "execution_count": null,
   "id": "cae327f6-352a-4b0f-bfd7-9906c1ce95bb",
   "metadata": {},
   "outputs": [],
   "source": []
  }
 ],
 "metadata": {
  "kernelspec": {
   "display_name": "Python [conda env:citi_env] *",
   "language": "python",
   "name": "conda-env-citi_env-py"
  },
  "language_info": {
   "codemirror_mode": {
    "name": "ipython",
    "version": 3
   },
   "file_extension": ".py",
   "mimetype": "text/x-python",
   "name": "python",
   "nbconvert_exporter": "python",
   "pygments_lexer": "ipython3",
   "version": "3.13.1"
  }
 },
 "nbformat": 4,
 "nbformat_minor": 5
}
